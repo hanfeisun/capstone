{
 "cells": [
  {
   "cell_type": "code",
   "execution_count": 1,
   "metadata": {
    "scrolled": false
   },
   "outputs": [
    {
     "name": "stderr",
     "output_type": "stream",
     "text": [
      "Using TensorFlow backend.\n",
      "/usr/local/Cellar/python3/3.6.1/Frameworks/Python.framework/Versions/3.6/lib/python3.6/importlib/_bootstrap.py:205: RuntimeWarning: compiletime version 3.5 of module 'tensorflow.python.framework.fast_tensor_util' does not match runtime version 3.6\n",
      "  return f(*args, **kwds)\n"
     ]
    },
    {
     "name": "stdout",
     "output_type": "stream",
     "text": [
      "number of words in GLOVE: 400000\n",
      "[('uuuuu', 1), ('me', 11), (\"i'm\", 21), ('have', 31), ('so', 41), ('glad', 51), ('be', 61), ('really', 71), ('question', 81), ('name', 91)]\n",
      "_________________________________________________________________\n",
      "Layer (type)                 Output Shape              Param #   \n",
      "=================================================================\n",
      "input_1 (InputLayer)         (None, 40)                0         \n",
      "_________________________________________________________________\n",
      "lambda_1 (Lambda)            (None, 20)                0         \n",
      "_________________________________________________________________\n",
      "embedding_1 (Embedding)      (None, 40, 100)           2000000   \n",
      "_________________________________________________________________\n",
      "gru_1 (GRU)                  (None, 50)                22650     \n",
      "=================================================================\n",
      "Total params: 2,022,650\n",
      "Trainable params: 22,650\n",
      "Non-trainable params: 2,000,000\n",
      "_________________________________________________________________\n",
      "None\n",
      "__________________________________________________________________________________________________\n",
      "Layer (type)                    Output Shape         Param #     Connected to                     \n",
      "==================================================================================================\n",
      "sentences (InputLayer)          (None, 20, 40)       0                                            \n",
      "__________________________________________________________________________________________________\n",
      "time_distributed_1 (TimeDistrib (None, 20, 50)       2022650     sentences[0][0]                  \n",
      "__________________________________________________________________________________________________\n",
      "aux (InputLayer)                (None, 20, 10)       0                                            \n",
      "__________________________________________________________________________________________________\n",
      "concatenate_1 (Concatenate)     (None, 20, 60)       0           time_distributed_1[0][0]         \n",
      "                                                                 aux[0][0]                        \n",
      "__________________________________________________________________________________________________\n",
      "dropout_1 (Dropout)             (None, 20, 60)       0           concatenate_1[0][0]              \n",
      "__________________________________________________________________________________________________\n",
      "bidirectional_1 (Bidirectional) (None, 100)          33300       dropout_1[0][0]                  \n",
      "__________________________________________________________________________________________________\n",
      "dropout_2 (Dropout)             (None, 100)          0           bidirectional_1[0][0]            \n",
      "__________________________________________________________________________________________________\n",
      "dense_1 (Dense)                 (None, 20)           2020        dropout_2[0][0]                  \n",
      "__________________________________________________________________________________________________\n",
      "batch_normalization_1 (BatchNor (None, 20)           80          dense_1[0][0]                    \n",
      "__________________________________________________________________________________________________\n",
      "dense_2 (Dense)                 (None, 20)           420         batch_normalization_1[0][0]      \n",
      "__________________________________________________________________________________________________\n",
      "batch_normalization_2 (BatchNor (None, 20)           80          dense_2[0][0]                    \n",
      "__________________________________________________________________________________________________\n",
      "softmax_output (Dense)          (None, 6)            126         batch_normalization_2[0][0]      \n",
      "==================================================================================================\n",
      "Total params: 2,058,676\n",
      "Trainable params: 58,596\n",
      "Non-trainable params: 2,000,080\n",
      "__________________________________________________________________________________________________\n",
      "None\n",
      "Train on 8122 samples, validate on 903 samples\n",
      "Epoch 1/30\n",
      "8064/8122 [============================>.] - ETA: 0s - loss: 2.0126 - categorical_crossentropy: 2.0126 - acc: 0.1833Epoch 00001: val_acc improved from -inf to 0.21152, saving model to imp-balanced-01-0.21.hdf5\n",
      "8122/8122 [==============================] - 26s 3ms/step - loss: 2.0109 - categorical_crossentropy: 2.0109 - acc: 0.1832 - val_loss: 1.7261 - val_categorical_crossentropy: 1.7261 - val_acc: 0.2115\n",
      "Epoch 2/30\n",
      "8064/8122 [============================>.] - ETA: 0s - loss: 1.7712 - categorical_crossentropy: 1.7712 - acc: 0.2020Epoch 00002: val_acc did not improve\n",
      "8122/8122 [==============================] - 23s 3ms/step - loss: 1.7707 - categorical_crossentropy: 1.7707 - acc: 0.2028 - val_loss: 1.6942 - val_categorical_crossentropy: 1.6942 - val_acc: 0.2082\n",
      "Epoch 3/30\n",
      "8064/8122 [============================>.] - ETA: 0s - loss: 1.7026 - categorical_crossentropy: 1.7026 - acc: 0.2119Epoch 00003: val_acc did not improve\n",
      "8122/8122 [==============================] - 22s 3ms/step - loss: 1.7023 - categorical_crossentropy: 1.7023 - acc: 0.2125 - val_loss: 1.6641 - val_categorical_crossentropy: 1.6641 - val_acc: 0.2082\n",
      "Epoch 4/30\n",
      "8064/8122 [============================>.] - ETA: 0s - loss: 1.6635 - categorical_crossentropy: 1.6635 - acc: 0.2178Epoch 00004: val_acc improved from 0.21152 to 0.21927, saving model to imp-balanced-04-0.22.hdf5\n",
      "8122/8122 [==============================] - 22s 3ms/step - loss: 1.6635 - categorical_crossentropy: 1.6635 - acc: 0.2177 - val_loss: 1.6514 - val_categorical_crossentropy: 1.6514 - val_acc: 0.2193\n",
      "Epoch 5/30\n",
      "8064/8122 [============================>.] - ETA: 0s - loss: 1.6383 - categorical_crossentropy: 1.6383 - acc: 0.2277Epoch 00005: val_acc improved from 0.21927 to 0.23145, saving model to imp-balanced-05-0.23.hdf5\n",
      "8122/8122 [==============================] - 30s 4ms/step - loss: 1.6380 - categorical_crossentropy: 1.6380 - acc: 0.2279 - val_loss: 1.6373 - val_categorical_crossentropy: 1.6373 - val_acc: 0.2315\n",
      "Epoch 6/30\n",
      "8064/8122 [============================>.] - ETA: 0s - loss: 1.6210 - categorical_crossentropy: 1.6210 - acc: 0.2334Epoch 00006: val_acc improved from 0.23145 to 0.23477, saving model to imp-balanced-06-0.23.hdf5\n",
      "8122/8122 [==============================] - 27s 3ms/step - loss: 1.6209 - categorical_crossentropy: 1.6209 - acc: 0.2338 - val_loss: 1.6227 - val_categorical_crossentropy: 1.6227 - val_acc: 0.2348\n",
      "Epoch 7/30\n",
      "8064/8122 [============================>.] - ETA: 0s - loss: 1.6112 - categorical_crossentropy: 1.6112 - acc: 0.2354Epoch 00007: val_acc did not improve\n",
      "8122/8122 [==============================] - 26s 3ms/step - loss: 1.6108 - categorical_crossentropy: 1.6108 - acc: 0.2360 - val_loss: 1.6175 - val_categorical_crossentropy: 1.6175 - val_acc: 0.2104\n",
      "Epoch 8/30\n",
      "8064/8122 [============================>.] - ETA: 0s - loss: 1.6054 - categorical_crossentropy: 1.6054 - acc: 0.2391Epoch 00008: val_acc did not improve\n",
      "8122/8122 [==============================] - 30s 4ms/step - loss: 1.6054 - categorical_crossentropy: 1.6054 - acc: 0.2391 - val_loss: 1.6084 - val_categorical_crossentropy: 1.6084 - val_acc: 0.2326\n",
      "Epoch 9/30\n",
      "8064/8122 [============================>.] - ETA: 0s - loss: 1.6031 - categorical_crossentropy: 1.6031 - acc: 0.2380Epoch 00009: val_acc did not improve\n",
      "8122/8122 [==============================] - 30s 4ms/step - loss: 1.6030 - categorical_crossentropy: 1.6030 - acc: 0.2377 - val_loss: 1.6043 - val_categorical_crossentropy: 1.6043 - val_acc: 0.2259\n",
      "Epoch 10/30\n",
      "8064/8122 [============================>.] - ETA: 0s - loss: 1.6005 - categorical_crossentropy: 1.6005 - acc: 0.2362Epoch 00010: val_acc did not improve\n",
      "8122/8122 [==============================] - 30s 4ms/step - loss: 1.6003 - categorical_crossentropy: 1.6003 - acc: 0.2359 - val_loss: 1.6047 - val_categorical_crossentropy: 1.6047 - val_acc: 0.2326\n",
      "Epoch 11/30\n",
      "8064/8122 [============================>.] - ETA: 0s - loss: 1.5944 - categorical_crossentropy: 1.5944 - acc: 0.2403Epoch 00011: val_acc did not improve\n",
      "8122/8122 [==============================] - 30s 4ms/step - loss: 1.5945 - categorical_crossentropy: 1.5945 - acc: 0.2402 - val_loss: 1.6095 - val_categorical_crossentropy: 1.6095 - val_acc: 0.2027\n"
     ]
    },
    {
     "name": "stdout",
     "output_type": "stream",
     "text": [
      "Epoch 12/30\n",
      "8064/8122 [============================>.] - ETA: 0s - loss: 1.5911 - categorical_crossentropy: 1.5911 - acc: 0.2471Epoch 00012: val_acc did not improve\n",
      "8122/8122 [==============================] - 29s 4ms/step - loss: 1.5910 - categorical_crossentropy: 1.5910 - acc: 0.2474 - val_loss: 1.6058 - val_categorical_crossentropy: 1.6058 - val_acc: 0.2337\n",
      "Epoch 13/30\n",
      "8064/8122 [============================>.] - ETA: 0s - loss: 1.5889 - categorical_crossentropy: 1.5889 - acc: 0.2511Epoch 00013: val_acc did not improve\n",
      "8122/8122 [==============================] - 32s 4ms/step - loss: 1.5891 - categorical_crossentropy: 1.5891 - acc: 0.2514 - val_loss: 1.6054 - val_categorical_crossentropy: 1.6054 - val_acc: 0.2093\n",
      "Epoch 14/30\n",
      "8064/8122 [============================>.] - ETA: 0s - loss: 1.5880 - categorical_crossentropy: 1.5880 - acc: 0.2514Epoch 00014: val_acc did not improve\n",
      "8122/8122 [==============================] - 31s 4ms/step - loss: 1.5879 - categorical_crossentropy: 1.5879 - acc: 0.2513 - val_loss: 1.6022 - val_categorical_crossentropy: 1.6022 - val_acc: 0.2303\n",
      "Epoch 15/30\n",
      "8064/8122 [============================>.] - ETA: 0s - loss: 1.5860 - categorical_crossentropy: 1.5860 - acc: 0.2578Epoch 00015: val_acc did not improve\n",
      "8122/8122 [==============================] - 29s 4ms/step - loss: 1.5862 - categorical_crossentropy: 1.5862 - acc: 0.2576 - val_loss: 1.6159 - val_categorical_crossentropy: 1.6159 - val_acc: 0.2315\n",
      "Epoch 16/30\n",
      "8064/8122 [============================>.] - ETA: 0s - loss: 1.5837 - categorical_crossentropy: 1.5837 - acc: 0.2540Epoch 00016: val_acc did not improve\n",
      "8122/8122 [==============================] - 29s 4ms/step - loss: 1.5838 - categorical_crossentropy: 1.5838 - acc: 0.2538 - val_loss: 1.6016 - val_categorical_crossentropy: 1.6016 - val_acc: 0.2292\n",
      "Epoch 17/30\n",
      "8064/8122 [============================>.] - ETA: 0s - loss: 1.5825 - categorical_crossentropy: 1.5825 - acc: 0.2598Epoch 00017: val_acc did not improve\n",
      "8122/8122 [==============================] - 30s 4ms/step - loss: 1.5826 - categorical_crossentropy: 1.5826 - acc: 0.2593 - val_loss: 1.6315 - val_categorical_crossentropy: 1.6315 - val_acc: 0.2004\n",
      "Epoch 18/30\n",
      "8064/8122 [============================>.] - ETA: 0s - loss: 1.5777 - categorical_crossentropy: 1.5777 - acc: 0.2626Epoch 00018: val_acc did not improve\n",
      "8122/8122 [==============================] - 27s 3ms/step - loss: 1.5777 - categorical_crossentropy: 1.5777 - acc: 0.2625 - val_loss: 1.6015 - val_categorical_crossentropy: 1.6015 - val_acc: 0.2281\n",
      "Epoch 19/30\n",
      "8064/8122 [============================>.] - ETA: 0s - loss: 1.5789 - categorical_crossentropy: 1.5789 - acc: 0.2598Epoch 00019: val_acc did not improve\n",
      "8122/8122 [==============================] - 30s 4ms/step - loss: 1.5792 - categorical_crossentropy: 1.5792 - acc: 0.2594 - val_loss: 1.6102 - val_categorical_crossentropy: 1.6102 - val_acc: 0.2226\n",
      "Epoch 20/30\n",
      "8064/8122 [============================>.] - ETA: 0s - loss: 1.5760 - categorical_crossentropy: 1.5760 - acc: 0.2615Epoch 00020: val_acc did not improve\n",
      "8122/8122 [==============================] - 27s 3ms/step - loss: 1.5758 - categorical_crossentropy: 1.5758 - acc: 0.2621 - val_loss: 1.6068 - val_categorical_crossentropy: 1.6068 - val_acc: 0.2137\n",
      "Epoch 21/30\n",
      "8064/8122 [============================>.] - ETA: 0s - loss: 1.5749 - categorical_crossentropy: 1.5749 - acc: 0.2604Epoch 00021: val_acc did not improve\n",
      "8122/8122 [==============================] - 31s 4ms/step - loss: 1.5748 - categorical_crossentropy: 1.5748 - acc: 0.2609 - val_loss: 1.6181 - val_categorical_crossentropy: 1.6181 - val_acc: 0.2237\n",
      "Epoch 22/30\n",
      "8064/8122 [============================>.] - ETA: 0s - loss: 1.5729 - categorical_crossentropy: 1.5729 - acc: 0.2644Epoch 00022: val_acc did not improve\n",
      "8122/8122 [==============================] - 27s 3ms/step - loss: 1.5731 - categorical_crossentropy: 1.5731 - acc: 0.2646 - val_loss: 1.6196 - val_categorical_crossentropy: 1.6196 - val_acc: 0.2337\n",
      "Epoch 23/30\n",
      "8064/8122 [============================>.] - ETA: 0s - loss: 1.5706 - categorical_crossentropy: 1.5706 - acc: 0.2765Epoch 00023: val_acc did not improve\n",
      "8122/8122 [==============================] - 30s 4ms/step - loss: 1.5704 - categorical_crossentropy: 1.5704 - acc: 0.2765 - val_loss: 1.6696 - val_categorical_crossentropy: 1.6696 - val_acc: 0.2071\n",
      "Epoch 24/30\n",
      "8064/8122 [============================>.] - ETA: 0s - loss: 1.5672 - categorical_crossentropy: 1.5672 - acc: 0.2727Epoch 00024: val_acc improved from 0.23477 to 0.23588, saving model to imp-balanced-24-0.24.hdf5\n",
      "8122/8122 [==============================] - 30s 4ms/step - loss: 1.5673 - categorical_crossentropy: 1.5673 - acc: 0.2727 - val_loss: 1.6189 - val_categorical_crossentropy: 1.6189 - val_acc: 0.2359\n",
      "Epoch 25/30\n",
      "8064/8122 [============================>.] - ETA: 0s - loss: 1.5683 - categorical_crossentropy: 1.5683 - acc: 0.2742Epoch 00025: val_acc did not improve\n",
      "8122/8122 [==============================] - 31s 4ms/step - loss: 1.5681 - categorical_crossentropy: 1.5681 - acc: 0.2741 - val_loss: 1.6247 - val_categorical_crossentropy: 1.6247 - val_acc: 0.2093\n",
      "Epoch 26/30\n",
      "8064/8122 [============================>.] - ETA: 0s - loss: 1.5620 - categorical_crossentropy: 1.5620 - acc: 0.2749Epoch 00026: val_acc did not improve\n",
      "8122/8122 [==============================] - 29s 4ms/step - loss: 1.5619 - categorical_crossentropy: 1.5619 - acc: 0.2746 - val_loss: 1.6213 - val_categorical_crossentropy: 1.6213 - val_acc: 0.2303\n",
      "Epoch 27/30\n",
      "8064/8122 [============================>.] - ETA: 0s - loss: 1.5583 - categorical_crossentropy: 1.5583 - acc: 0.2817Epoch 00027: val_acc did not improve\n",
      "8122/8122 [==============================] - 28s 3ms/step - loss: 1.5587 - categorical_crossentropy: 1.5587 - acc: 0.2811 - val_loss: 1.6386 - val_categorical_crossentropy: 1.6386 - val_acc: 0.2115\n",
      "Epoch 28/30\n",
      "8064/8122 [============================>.] - ETA: 0s - loss: 1.5599 - categorical_crossentropy: 1.5599 - acc: 0.2804Epoch 00028: val_acc did not improve\n",
      "8122/8122 [==============================] - 30s 4ms/step - loss: 1.5594 - categorical_crossentropy: 1.5594 - acc: 0.2810 - val_loss: 1.6219 - val_categorical_crossentropy: 1.6219 - val_acc: 0.2281\n",
      "Epoch 29/30\n",
      "8064/8122 [============================>.] - ETA: 0s - loss: 1.5580 - categorical_crossentropy: 1.5580 - acc: 0.2780Epoch 00029: val_acc did not improve\n",
      "8122/8122 [==============================] - 30s 4ms/step - loss: 1.5588 - categorical_crossentropy: 1.5588 - acc: 0.2775 - val_loss: 1.6237 - val_categorical_crossentropy: 1.6237 - val_acc: 0.2237\n",
      "Epoch 30/30\n",
      "8064/8122 [============================>.] - ETA: 0s - loss: 1.5494 - categorical_crossentropy: 1.5494 - acc: 0.2922Epoch 00030: val_acc did not improve\n",
      "8122/8122 [==============================] - 31s 4ms/step - loss: 1.5491 - categorical_crossentropy: 1.5491 - acc: 0.2920 - val_loss: 1.6354 - val_categorical_crossentropy: 1.6354 - val_acc: 0.2049\n"
     ]
    }
   ],
   "source": [
    "%run main.py"
   ]
  },
  {
   "cell_type": "code",
   "execution_count": 2,
   "metadata": {
    "scrolled": true
   },
   "outputs": [
    {
     "data": {
      "text/plain": [
       "<matplotlib.figure.Figure at 0x16c188518>"
      ]
     },
     "execution_count": 2,
     "metadata": {},
     "output_type": "execute_result"
    },
    {
     "data": {
      "image/png": "[encoded data removed]",
      "text/plain": [
       "<matplotlib.figure.Figure at 0x174bc47f0>"
      ]
     },
     "metadata": {},
     "output_type": "display_data"
    },
    {
     "data": {
      "text/plain": [
       "<matplotlib.figure.Figure at 0x16c188518>"
      ]
     },
     "metadata": {},
     "output_type": "display_data"
    }
   ],
   "source": [
    "%matplotlib inline\n",
    "y_true = y_test.argmax(axis=1)\n",
    "preds = model.predict(prepare(X_test))\n",
    "preds = preds.argmax(axis=1)\n",
    "cm = ConfusionMatrix(y_true, preds)\n",
    "cm.plot(backend='seaborn', normalized=True)\n",
    "plt.title('Confusion Matrix Stars prediction')\n",
    "plt.figure(figsize=(12, 10))\n",
    "\n"
   ]
  },
  {
   "cell_type": "code",
   "execution_count": 3,
   "metadata": {},
   "outputs": [
    {
     "name": "stdout",
     "output_type": "stream",
     "text": [
      "Train on 8122 samples, validate on 903 samples\n",
      "Epoch 1/30\n",
      "8064/8122 [============================>.] - ETA: 0s - loss: 1.5874 - categorical_crossentropy: 1.5874 - acc: 0.2496Epoch 00001: val_acc did not improve\n",
      "8122/8122 [==============================] - 24s 3ms/step - loss: 1.5878 - categorical_crossentropy: 1.5878 - acc: 0.2496 - val_loss: 1.5969 - val_categorical_crossentropy: 1.5969 - val_acc: 0.2303\n",
      "Epoch 2/30\n",
      "2432/8122 [=======>......................] - ETA: 17s - loss: 1.5872 - categorical_crossentropy: 1.5872 - acc: 0.2430"
     ]
    },
    {
     "ename": "KeyboardInterrupt",
     "evalue": "",
     "output_type": "error",
     "traceback": [
      "\u001b[0;31m---------------------------------------------------------------------------\u001b[0m",
      "\u001b[0;31mKeyboardInterrupt\u001b[0m                         Traceback (most recent call last)",
      "\u001b[0;32m<ipython-input-3-fbc786e23999>\u001b[0m in \u001b[0;36m<module>\u001b[0;34m()\u001b[0m\n\u001b[1;32m      9\u001b[0m               \u001b[0mbatch_size\u001b[0m\u001b[0;34m=\u001b[0m\u001b[0;36m128\u001b[0m\u001b[0;34m,\u001b[0m\u001b[0;34m\u001b[0m\u001b[0m\n\u001b[1;32m     10\u001b[0m               \u001b[0mvalidation_data\u001b[0m\u001b[0;34m=\u001b[0m\u001b[0;34m(\u001b[0m\u001b[0mprepare\u001b[0m\u001b[0;34m(\u001b[0m\u001b[0mX_test\u001b[0m\u001b[0;34m)\u001b[0m\u001b[0;34m,\u001b[0m \u001b[0;34m{\u001b[0m\u001b[0;34m'softmax_output'\u001b[0m\u001b[0;34m:\u001b[0m \u001b[0my_test\u001b[0m\u001b[0;34m}\u001b[0m\u001b[0;34m)\u001b[0m\u001b[0;34m,\u001b[0m\u001b[0;34m\u001b[0m\u001b[0m\n\u001b[0;32m---> 11\u001b[0;31m               \u001b[0mcallbacks\u001b[0m\u001b[0;34m=\u001b[0m\u001b[0mcallbacks_list\u001b[0m\u001b[0;34m\u001b[0m\u001b[0m\n\u001b[0m\u001b[1;32m     12\u001b[0m               )\n",
      "\u001b[0;32m/usr/local/lib/python3.6/site-packages/keras/engine/training.py\u001b[0m in \u001b[0;36mfit\u001b[0;34m(self, x, y, batch_size, epochs, verbose, callbacks, validation_split, validation_data, shuffle, class_weight, sample_weight, initial_epoch, steps_per_epoch, validation_steps, **kwargs)\u001b[0m\n\u001b[1;32m   1629\u001b[0m                               \u001b[0minitial_epoch\u001b[0m\u001b[0;34m=\u001b[0m\u001b[0minitial_epoch\u001b[0m\u001b[0;34m,\u001b[0m\u001b[0;34m\u001b[0m\u001b[0m\n\u001b[1;32m   1630\u001b[0m                               \u001b[0msteps_per_epoch\u001b[0m\u001b[0;34m=\u001b[0m\u001b[0msteps_per_epoch\u001b[0m\u001b[0;34m,\u001b[0m\u001b[0;34m\u001b[0m\u001b[0m\n\u001b[0;32m-> 1631\u001b[0;31m                               validation_steps=validation_steps)\n\u001b[0m\u001b[1;32m   1632\u001b[0m \u001b[0;34m\u001b[0m\u001b[0m\n\u001b[1;32m   1633\u001b[0m     def evaluate(self, x=None, y=None,\n",
      "\u001b[0;32m/usr/local/lib/python3.6/site-packages/keras/engine/training.py\u001b[0m in \u001b[0;36m_fit_loop\u001b[0;34m(self, f, ins, out_labels, batch_size, epochs, verbose, callbacks, val_f, val_ins, shuffle, callback_metrics, initial_epoch, steps_per_epoch, validation_steps)\u001b[0m\n\u001b[1;32m   1211\u001b[0m                     \u001b[0mbatch_logs\u001b[0m\u001b[0;34m[\u001b[0m\u001b[0;34m'size'\u001b[0m\u001b[0;34m]\u001b[0m \u001b[0;34m=\u001b[0m \u001b[0mlen\u001b[0m\u001b[0;34m(\u001b[0m\u001b[0mbatch_ids\u001b[0m\u001b[0;34m)\u001b[0m\u001b[0;34m\u001b[0m\u001b[0m\n\u001b[1;32m   1212\u001b[0m                     \u001b[0mcallbacks\u001b[0m\u001b[0;34m.\u001b[0m\u001b[0mon_batch_begin\u001b[0m\u001b[0;34m(\u001b[0m\u001b[0mbatch_index\u001b[0m\u001b[0;34m,\u001b[0m \u001b[0mbatch_logs\u001b[0m\u001b[0;34m)\u001b[0m\u001b[0;34m\u001b[0m\u001b[0m\n\u001b[0;32m-> 1213\u001b[0;31m                     \u001b[0mouts\u001b[0m \u001b[0;34m=\u001b[0m \u001b[0mf\u001b[0m\u001b[0;34m(\u001b[0m\u001b[0mins_batch\u001b[0m\u001b[0;34m)\u001b[0m\u001b[0;34m\u001b[0m\u001b[0m\n\u001b[0m\u001b[1;32m   1214\u001b[0m                     \u001b[0;32mif\u001b[0m \u001b[0;32mnot\u001b[0m \u001b[0misinstance\u001b[0m\u001b[0;34m(\u001b[0m\u001b[0mouts\u001b[0m\u001b[0;34m,\u001b[0m \u001b[0mlist\u001b[0m\u001b[0;34m)\u001b[0m\u001b[0;34m:\u001b[0m\u001b[0;34m\u001b[0m\u001b[0m\n\u001b[1;32m   1215\u001b[0m                         \u001b[0mouts\u001b[0m \u001b[0;34m=\u001b[0m \u001b[0;34m[\u001b[0m\u001b[0mouts\u001b[0m\u001b[0;34m]\u001b[0m\u001b[0;34m\u001b[0m\u001b[0m\n",
      "\u001b[0;32m/usr/local/lib/python3.6/site-packages/keras/backend/tensorflow_backend.py\u001b[0m in \u001b[0;36m__call__\u001b[0;34m(self, inputs)\u001b[0m\n\u001b[1;32m   2330\u001b[0m         updated = session.run(self.outputs + [self.updates_op],\n\u001b[1;32m   2331\u001b[0m                               \u001b[0mfeed_dict\u001b[0m\u001b[0;34m=\u001b[0m\u001b[0mfeed_dict\u001b[0m\u001b[0;34m,\u001b[0m\u001b[0;34m\u001b[0m\u001b[0m\n\u001b[0;32m-> 2332\u001b[0;31m                               **self.session_kwargs)\n\u001b[0m\u001b[1;32m   2333\u001b[0m         \u001b[0;32mreturn\u001b[0m \u001b[0mupdated\u001b[0m\u001b[0;34m[\u001b[0m\u001b[0;34m:\u001b[0m\u001b[0mlen\u001b[0m\u001b[0;34m(\u001b[0m\u001b[0mself\u001b[0m\u001b[0;34m.\u001b[0m\u001b[0moutputs\u001b[0m\u001b[0;34m)\u001b[0m\u001b[0;34m]\u001b[0m\u001b[0;34m\u001b[0m\u001b[0m\n\u001b[1;32m   2334\u001b[0m \u001b[0;34m\u001b[0m\u001b[0m\n",
      "\u001b[0;32m~/Library/Python/3.6/lib/python/site-packages/tensorflow/python/client/session.py\u001b[0m in \u001b[0;36mrun\u001b[0;34m(self, fetches, feed_dict, options, run_metadata)\u001b[0m\n\u001b[1;32m    887\u001b[0m     \u001b[0;32mtry\u001b[0m\u001b[0;34m:\u001b[0m\u001b[0;34m\u001b[0m\u001b[0m\n\u001b[1;32m    888\u001b[0m       result = self._run(None, fetches, feed_dict, options_ptr,\n\u001b[0;32m--> 889\u001b[0;31m                          run_metadata_ptr)\n\u001b[0m\u001b[1;32m    890\u001b[0m       \u001b[0;32mif\u001b[0m \u001b[0mrun_metadata\u001b[0m\u001b[0;34m:\u001b[0m\u001b[0;34m\u001b[0m\u001b[0m\n\u001b[1;32m    891\u001b[0m         \u001b[0mproto_data\u001b[0m \u001b[0;34m=\u001b[0m \u001b[0mtf_session\u001b[0m\u001b[0;34m.\u001b[0m\u001b[0mTF_GetBuffer\u001b[0m\u001b[0;34m(\u001b[0m\u001b[0mrun_metadata_ptr\u001b[0m\u001b[0;34m)\u001b[0m\u001b[0;34m\u001b[0m\u001b[0m\n",
      "\u001b[0;32m~/Library/Python/3.6/lib/python/site-packages/tensorflow/python/client/session.py\u001b[0m in \u001b[0;36m_run\u001b[0;34m(self, handle, fetches, feed_dict, options, run_metadata)\u001b[0m\n\u001b[1;32m   1118\u001b[0m     \u001b[0;32mif\u001b[0m \u001b[0mfinal_fetches\u001b[0m \u001b[0;32mor\u001b[0m \u001b[0mfinal_targets\u001b[0m \u001b[0;32mor\u001b[0m \u001b[0;34m(\u001b[0m\u001b[0mhandle\u001b[0m \u001b[0;32mand\u001b[0m \u001b[0mfeed_dict_tensor\u001b[0m\u001b[0;34m)\u001b[0m\u001b[0;34m:\u001b[0m\u001b[0;34m\u001b[0m\u001b[0m\n\u001b[1;32m   1119\u001b[0m       results = self._do_run(handle, final_targets, final_fetches,\n\u001b[0;32m-> 1120\u001b[0;31m                              feed_dict_tensor, options, run_metadata)\n\u001b[0m\u001b[1;32m   1121\u001b[0m     \u001b[0;32melse\u001b[0m\u001b[0;34m:\u001b[0m\u001b[0;34m\u001b[0m\u001b[0m\n\u001b[1;32m   1122\u001b[0m       \u001b[0mresults\u001b[0m \u001b[0;34m=\u001b[0m \u001b[0;34m[\u001b[0m\u001b[0;34m]\u001b[0m\u001b[0;34m\u001b[0m\u001b[0m\n",
      "\u001b[0;32m~/Library/Python/3.6/lib/python/site-packages/tensorflow/python/client/session.py\u001b[0m in \u001b[0;36m_do_run\u001b[0;34m(self, handle, target_list, fetch_list, feed_dict, options, run_metadata)\u001b[0m\n\u001b[1;32m   1315\u001b[0m     \u001b[0;32mif\u001b[0m \u001b[0mhandle\u001b[0m \u001b[0;32mis\u001b[0m \u001b[0;32mNone\u001b[0m\u001b[0;34m:\u001b[0m\u001b[0;34m\u001b[0m\u001b[0m\n\u001b[1;32m   1316\u001b[0m       return self._do_call(_run_fn, self._session, feeds, fetches, targets,\n\u001b[0;32m-> 1317\u001b[0;31m                            options, run_metadata)\n\u001b[0m\u001b[1;32m   1318\u001b[0m     \u001b[0;32melse\u001b[0m\u001b[0;34m:\u001b[0m\u001b[0;34m\u001b[0m\u001b[0m\n\u001b[1;32m   1319\u001b[0m       \u001b[0;32mreturn\u001b[0m \u001b[0mself\u001b[0m\u001b[0;34m.\u001b[0m\u001b[0m_do_call\u001b[0m\u001b[0;34m(\u001b[0m\u001b[0m_prun_fn\u001b[0m\u001b[0;34m,\u001b[0m \u001b[0mself\u001b[0m\u001b[0;34m.\u001b[0m\u001b[0m_session\u001b[0m\u001b[0;34m,\u001b[0m \u001b[0mhandle\u001b[0m\u001b[0;34m,\u001b[0m \u001b[0mfeeds\u001b[0m\u001b[0;34m,\u001b[0m \u001b[0mfetches\u001b[0m\u001b[0;34m)\u001b[0m\u001b[0;34m\u001b[0m\u001b[0m\n",
      "\u001b[0;32m~/Library/Python/3.6/lib/python/site-packages/tensorflow/python/client/session.py\u001b[0m in \u001b[0;36m_do_call\u001b[0;34m(self, fn, *args)\u001b[0m\n\u001b[1;32m   1321\u001b[0m   \u001b[0;32mdef\u001b[0m \u001b[0m_do_call\u001b[0m\u001b[0;34m(\u001b[0m\u001b[0mself\u001b[0m\u001b[0;34m,\u001b[0m \u001b[0mfn\u001b[0m\u001b[0;34m,\u001b[0m \u001b[0;34m*\u001b[0m\u001b[0margs\u001b[0m\u001b[0;34m)\u001b[0m\u001b[0;34m:\u001b[0m\u001b[0;34m\u001b[0m\u001b[0m\n\u001b[1;32m   1322\u001b[0m     \u001b[0;32mtry\u001b[0m\u001b[0;34m:\u001b[0m\u001b[0;34m\u001b[0m\u001b[0m\n\u001b[0;32m-> 1323\u001b[0;31m       \u001b[0;32mreturn\u001b[0m \u001b[0mfn\u001b[0m\u001b[0;34m(\u001b[0m\u001b[0;34m*\u001b[0m\u001b[0margs\u001b[0m\u001b[0;34m)\u001b[0m\u001b[0;34m\u001b[0m\u001b[0m\n\u001b[0m\u001b[1;32m   1324\u001b[0m     \u001b[0;32mexcept\u001b[0m \u001b[0merrors\u001b[0m\u001b[0;34m.\u001b[0m\u001b[0mOpError\u001b[0m \u001b[0;32mas\u001b[0m \u001b[0me\u001b[0m\u001b[0;34m:\u001b[0m\u001b[0;34m\u001b[0m\u001b[0m\n\u001b[1;32m   1325\u001b[0m       \u001b[0mmessage\u001b[0m \u001b[0;34m=\u001b[0m \u001b[0mcompat\u001b[0m\u001b[0;34m.\u001b[0m\u001b[0mas_text\u001b[0m\u001b[0;34m(\u001b[0m\u001b[0me\u001b[0m\u001b[0;34m.\u001b[0m\u001b[0mmessage\u001b[0m\u001b[0;34m)\u001b[0m\u001b[0;34m\u001b[0m\u001b[0m\n",
      "\u001b[0;32m~/Library/Python/3.6/lib/python/site-packages/tensorflow/python/client/session.py\u001b[0m in \u001b[0;36m_run_fn\u001b[0;34m(session, feed_dict, fetch_list, target_list, options, run_metadata)\u001b[0m\n\u001b[1;32m   1300\u001b[0m           return tf_session.TF_Run(session, options,\n\u001b[1;32m   1301\u001b[0m                                    \u001b[0mfeed_dict\u001b[0m\u001b[0;34m,\u001b[0m \u001b[0mfetch_list\u001b[0m\u001b[0;34m,\u001b[0m \u001b[0mtarget_list\u001b[0m\u001b[0;34m,\u001b[0m\u001b[0;34m\u001b[0m\u001b[0m\n\u001b[0;32m-> 1302\u001b[0;31m                                    status, run_metadata)\n\u001b[0m\u001b[1;32m   1303\u001b[0m \u001b[0;34m\u001b[0m\u001b[0m\n\u001b[1;32m   1304\u001b[0m     \u001b[0;32mdef\u001b[0m \u001b[0m_prun_fn\u001b[0m\u001b[0;34m(\u001b[0m\u001b[0msession\u001b[0m\u001b[0;34m,\u001b[0m \u001b[0mhandle\u001b[0m\u001b[0;34m,\u001b[0m \u001b[0mfeed_dict\u001b[0m\u001b[0;34m,\u001b[0m \u001b[0mfetch_list\u001b[0m\u001b[0;34m)\u001b[0m\u001b[0;34m:\u001b[0m\u001b[0;34m\u001b[0m\u001b[0m\n",
      "\u001b[0;31mKeyboardInterrupt\u001b[0m: "
     ]
    }
   ],
   "source": [
    "\n",
    "def prepare(X):\n",
    "    return {\"sentences\": np.copy(X[:, :, :MAX_WORD_PER_SENTENCE]),\n",
    "            \"aux\": np.copy(np.array(X[:, :, MAX_WORD_PER_SENTENCE:], dtype=\"float\"))\n",
    "            }\n",
    "model.fit(prepare(X_train),\n",
    "              {'softmax_output': y_train},\n",
    "              epochs=5,\n",
    "              batch_size=128,\n",
    "              validation_data=(prepare(X_test), {'softmax_output': y_test}),\n",
    "              callbacks=callbacks_list\n",
    "              )\n"
   ]
  },
  {
   "cell_type": "code",
   "execution_count": 4,
   "metadata": {},
   "outputs": [
    {
     "data": {
      "text/plain": [
       "<matplotlib.figure.Figure at 0x16b0fe9e8>"
      ]
     },
     "execution_count": 4,
     "metadata": {},
     "output_type": "execute_result"
    },
    {
     "data": {
      "image/png": "[encoded data removed]",
      "text/plain": [
       "<matplotlib.figure.Figure at 0x16c0ce5f8>"
      ]
     },
     "metadata": {},
     "output_type": "display_data"
    },
    {
     "data": {
      "text/plain": [
       "<matplotlib.figure.Figure at 0x16b0fe9e8>"
      ]
     },
     "metadata": {},
     "output_type": "display_data"
    }
   ],
   "source": [
    "%matplotlib inline\n",
    "y_true = y_test.argmax(axis=1)\n",
    "preds = model.predict(prepare(X_test))\n",
    "preds = preds.argmax(axis=1)\n",
    "cm = ConfusionMatrix(y_true, preds)\n",
    "cm.plot(backend='seaborn', normalized=True)\n",
    "plt.title('Confusion Matrix Stars prediction')\n",
    "plt.figure(figsize=(12, 10))"
   ]
  },
  {
   "cell_type": "code",
   "execution_count": 5,
   "metadata": {},
   "outputs": [
    {
     "data": {
      "text/plain": [
       "<matplotlib.figure.Figure at 0x16b110f60>"
      ]
     },
     "execution_count": 5,
     "metadata": {},
     "output_type": "execute_result"
    },
    {
     "data": {
      "image/png": "[encoded data removed]",
      "text/plain": [
       "<matplotlib.figure.Figure at 0x16b9a68d0>"
      ]
     },
     "metadata": {},
     "output_type": "display_data"
    },
    {
     "data": {
      "text/plain": [
       "<matplotlib.figure.Figure at 0x16b110f60>"
      ]
     },
     "metadata": {},
     "output_type": "display_data"
    }
   ],
   "source": [
    "%matplotlib inline\n",
    "y_true = y_train.argmax(axis=1)\n",
    "preds = model.predict(prepare(X_train))\n",
    "preds = preds.argmax(axis=1)\n",
    "cm = ConfusionMatrix(y_true, preds)\n",
    "cm.plot(backend='seaborn', normalized=True)\n",
    "plt.title('Confusion Matrix Stars prediction')\n",
    "plt.figure(figsize=(12, 10))"
   ]
  }
 ],
 "metadata": {
  "kernelspec": {
   "display_name": "Python 3",
   "language": "python",
   "name": "python3"
  },
  "language_info": {
   "codemirror_mode": {
    "name": "ipython",
    "version": 3
   },
   "file_extension": ".py",
   "mimetype": "text/x-python",
   "name": "python",
   "nbconvert_exporter": "python",
   "pygments_lexer": "ipython3",
   "version": "3.6.1"
  }
 },
 "nbformat": 4,
 "nbformat_minor": 2
}
