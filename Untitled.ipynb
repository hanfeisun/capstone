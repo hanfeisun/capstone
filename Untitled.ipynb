{
 "cells": [
  {
   "cell_type": "code",
   "execution_count": 18,
   "metadata": {},
   "outputs": [],
   "source": [
    "import pandas as pd\n",
    "import pandas as pd\n",
    "import json\n",
    "import os\n",
    "import seaborn as sns\n",
    "import collections\n",
    "import scipy.sparse as sp\n",
    "import matplotlib.pyplot as plt\n",
    "import itertools\n",
    "import numpy as np\n",
    "import seaborn\n",
    "import operator\n",
    "from keras.preprocessing.text import Tokenizer\n",
    "from keras.preprocessing.sequence import pad_sequences\n",
    "from keras.utils.np_utils import to_categorical\n",
    "import joblib\n",
    "from sklearn.model_selection import train_test_split\n",
    "\n",
    "from keras.callbacks import History\n",
    "from keras.datasets import imdb\n",
    "from keras.models import Sequential, save_model, load_model\n",
    "from keras.layers import Dense\n",
    "from keras.layers import LSTM, GRU\n",
    "from keras.layers import Flatten\n",
    "from keras.layers import Dropout\n",
    "from keras.layers.convolutional import Convolution1D\n",
    "from keras.layers.convolutional import MaxPooling1D\n",
    "from keras.layers.embeddings import Embedding\n",
    "from keras.preprocessing import sequence\n",
    "import keras.backend as K\n",
    "from keras.callbacks import ModelCheckpoint, CSVLogger\n",
    "from sklearn.manifold import TSNE\n",
    "from sklearn.decomposition import PCA\n",
    "from sklearn.pipeline import Pipeline\n",
    "\n",
    "from pandas_ml import ConfusionMatrix\n",
    "import langdetect\n",
    "\n",
    "\n",
    "np.random.seed(0)\n",
    "BASE_DIR = ''\n",
    "GLOVE_DIR = 'glove.6B.100d.txt'\n",
    "MAX_SEQUENCE_LENGTH = 1000\n",
    "MAX_NB_WORDS = 20000\n",
    "EMBEDDING_DIM = int(''.join([s for s in GLOVE_DIR.split('/')[-1].split('.')[-2] if s.isdigit()])) # 100\n",
    "VALIDATION_SPLIT = 0.2\n",
    "PRELOAD = True\n",
    "embedding_index = load_glove_into_dict(GLOVE_DIR)\n"
   ]
  },
  {
   "cell_type": "code",
   "execution_count": 19,
   "metadata": {},
   "outputs": [
    {
     "data": {
      "text/plain": [
       "['tokenizer.pickle']"
      ]
     },
     "execution_count": 19,
     "metadata": {},
     "output_type": "execute_result"
    }
   ],
   "source": [
    "    df_reviews = pd.read_csv('oneperline.csv')  # , encoding='utf-8')\n",
    "    df_reviews['len'] = df_reviews.text.str.len()\n",
    "    df_reviews['rating'] = df_reviews['rating'].round()\n",
    "    df_reviews = df_reviews[df_reviews['len'].between(10, 4000)]\n",
    "    #     df_reviews = df_reviews[df_reviews.language == 'en']\n",
    "    # balancing dataset\n",
    "    df_rev_balanced = df_reviews\n",
    "\n",
    "    df_rev_balanced.to_csv('balanced_reviews.csv', encoding='utf-8')\n",
    "\n",
    "    tokenizer = Tokenizer(num_words=MAX_NB_WORDS)\n",
    "    tokenizer.fit_on_texts(df_rev_balanced.text.tolist())\n",
    "    joblib.dump(tokenizer, 'tokenizer.pickle')\n"
   ]
  },
  {
   "cell_type": "code",
   "execution_count": 24,
   "metadata": {},
   "outputs": [],
   "source": [
    "    WORD_INDEX_SORTED = sorted(tokenizer.word_index.items(), key=operator.itemgetter(1))\n"
   ]
  },
  {
   "cell_type": "code",
   "execution_count": 31,
   "metadata": {},
   "outputs": [
    {
     "name": "stdout",
     "output_type": "stream",
     "text": [
      "[('alexa', 1), ('me', 11), ('good', 21), ('have', 31), ('so', 41), ('this', 51), ('thank', 61), ('really', 71), ('question', 81), ('doing', 91), ('smart', 101), ('or', 111), ('pretty', 121), ('sometimes', 131), ('day', 141), (\"didn't\", 151), ('always', 161), ('chat', 171), ('old', 181), ('she', 191), (\"doesn't\", 201), ('trying', 211), (\"i'll\", 221), ('trump', 231), (\"i've\", 241), ('goodbye', 251), (\"wasn't\", 261), ('it’s', 271), ('little', 281), ('wrong', 291), ('house', 301), ('problem', 311), ('pizza', 321), ('also', 331), ('god', 341), ('birthday', 351), ('hot', 361), ('called', 371), ('water', 381), ('learn', 391), ('including', 401), ('part', 411), ('replaced', 421), ('use', 431), ('able', 441), ('white', 451), ('lost', 461), ('internet', 471), ('bot', 481), ('football', 491), ('star', 501), ('open', 511), ('system', 521), ('these', 531), ('days', 541), ('second', 551), ('several', 561), ('buy', 571), ('add', 581), ('check', 591), ('john', 601), ('advice', 611), ('raining', 621), ('wish', 631), ('shut', 641), ('mother', 651), ('came', 661), ('dead', 671), ('under', 681), ('laugh', 691), ('alone', 701), ('27', 711), ('hair', 721), ('happen', 731), ('date', 741), ('nasa', 751), ('absolutely', 761), ('heart', 771), ('girls', 781), ('96', 791), ('list', 801), ('study', 811), ('business', 821), ('suck', 831), ('totally', 841), ('anyway', 851), ('average', 861), ('gone', 871), ('cancel', 881), ('university', 891), ('side', 901), ('mad', 911), ('eclipse', 921), ('cook', 931), ('sum', 941), ('repeatedly', 951), ('cake', 961), ('facts', 971), ('hour', 981), ('tried', 991), ('goes', 1001), ('concert', 1011), ('late', 1021), ('media', 1031), ('woodchuck', 1041), ('worst', 1051), ('control', 1061), ('lately', 1071), ('door', 1081), ('quit', 1091), ('future', 1101), ('hand', 1111), ('disney', 1121), ('lunch', 1131), ('creepy', 1141), ('likely', 1151), ('action', 1161), ('distinct', 1171), ('fall', 1181), ('italy', 1191), ('recognize', 1201), ('ground', 1211), ('strange', 1221), ('faster', 1231), ('cloud', 1241), ('sides', 1251), ('shy', 1261), ('reply', 1271), ('kong', 1281), ('sweden', 1291), ('adjective', 1301), ('paris', 1311), ('dots', 1321), ('actor', 1331), ('gender', 1341), ('lady', 1351), ('loved', 1361), ('catch', 1371), ('higher', 1381), ('bedtime', 1391), ('discussion', 1401), ('motion', 1411), ('warriors', 1421), ('”', 1431), ('population', 1441), ('paul', 1451), ('capable', 1461), ('umts', 1471), ('husband', 1481), ('i’m', 1491), ('shall', 1501), ('dunno', 1511), ('taken', 1521), ('worked', 1531), ('lt', 1541), ('players', 1551), ('building', 1561), ('potential', 1571), ('2014', 1581), ('writing', 1591), ('restaurant', 1601), ('race', 1611), ('louder', 1621), ('count', 1631), ('wind', 1641), ('tap', 1651), ('tennis', 1661), ('rn', 1671), ('formed', 1681), ('bruno', 1691), ('f', 1701), ('above', 1711), ('fantastic', 1721), ('tiger', 1731), ('author', 1741), ('spot', 1751), ('mac', 1761), ('honestly', 1771), ('within', 1781), ('understanding', 1791), ('tip', 1801), ('hospital', 1811), ('2016', 1821), ('feet', 1831), ('slim', 1841), ('streaming', 1851), ('snow', 1861), ('sexual', 1871), ('cubs', 1881), ('smell', 1891), ('emotional', 1901), ('republic', 1911), ('interest', 1921), ('exact', 1931), ('programming', 1941), ('rolls', 1951), ('writer', 1961), ('acceptable', 1971), ('civil', 1981), ('starts', 1991), ('range', 2001), ('board', 2011), ('gossip', 2021), ('traffic', 2031), ('rates', 2041), ('tuesday', 2051), ('bass', 2061), ('im', 2071), ('abundant', 2081), ('scared', 2091), ('safe', 2101), ('killing', 2111), ('bag', 2121), ('truck', 2131), ('six', 2141), ('maintain', 2151), ('eny', 2161), ('consisting', 2171), ('st', 2181), ('perception', 2191), ('particularly', 2201), ('photoplay', 2211), ('aliens', 2221), ('shepherd', 2231), ('shoot', 2241), ('century', 2251), ('everywhere', 2261), ('noticed', 2271), ('altered', 2281), ('quartet', 2291), ('officially', 2301), ('loudspeaker', 2311), ('naked', 2321), ('dating', 2331), ('antarctica', 2341), ('owner', 2351), ('rb', 2361), ('fixed', 2371), ('abraham', 2381), ('potato', 2391), ('gas', 2401), ('condescending', 2411), ('photo', 2421), ('leg', 2431), ('lincoln', 2441), ('dish', 2451), ('grammatical', 2461), ('georgia', 2471), ('em', 2481), ('research', 2491), ('spoken', 2501), ('rules', 2511), ('kitty', 2521), ('mimics', 2531), ('sharing', 2541), ('technical', 2551), ('kevin', 2561), ('jason', 2571), ('cartoon', 2581), ('steven', 2591), ('foreign', 2601), ('hug', 2611), ('“i', 2621), ('calories', 2631), ('laws', 2641), ('imply', 2651), ('vegetables', 2661), ('joy', 2671), ('alex', 2681), ('threat', 2691), ('ed', 2701), ('expecting', 2711), ('juice', 2721), ('showing', 2731), ('vegan', 2741), ('monkeys', 2751), ('stream', 2761), ('destroy', 2771), ('description', 2781), ('iphone', 2791), ('meal', 2801), ('molecules', 2811), ('develop', 2821), ('valley', 2831), ('edible', 2841), ('lisa', 2851), ('iran', 2861), ('donkey', 2871), ('delete', 2881), ('mass', 2891), ('became', 2901), ('drinks', 2911), ('logical', 2921), ('acdc', 2931), ('teaching', 2941), ('texts', 2951), ('experiment', 2961), ('role', 2971), ('hates', 2981), ('05', 2991), ('independent', 3001), ('gravity', 3011), ('background', 3021), ('knee', 3031), ('strength', 3041), ('era', 3051), ('among', 3061), ('object', 3071), ('appreciated', 3081), ('hopefully', 3091), ('dj', 3101), ('silent', 3111), ('turing', 3121), ('shake', 3131), ('enable', 3141), ('tango', 3151), ('hunt', 3161), ('becomes', 3171), ('closed', 3181), ('whatsoever', 3191), ('seat', 3201), ('pickles', 3211), ('horoscope', 3221), ('brad', 3231), ('ray', 3241), ('mystery', 3251), ('silver', 3261), ('andrew', 3271), ('growth', 3281), ('asks', 3291), ('lamp', 3301), ('tide', 3311), ('crew', 3321), ('congratulations', 3331), ('presidency', 3341), ('rising', 3351), ('escape', 3361), ('angels', 3371), ('uber', 3381), ('turtles', 3391), ('butts', 3401), ('60s', 3411), ('crash', 3421), (\"1's\", 3431), ('elaborate', 3441), ('domesticated', 3451), ('trending', 3461), ('boom', 3471), ('billy', 3481), ('rush', 3491), ('circles', 3501), ('stink', 3511), ('missouri', 3521), ('snakes', 3531), ('subspecies', 3541), ('monster', 3551), ('zebra', 3561), ('philosophy', 3571), ('exam', 3581), ('vision', 3591), ('junior', 3601), ('kate', 3611), ('turtle', 3621), ('somehow', 3631), ('touched', 3641), ('belong', 3651), ('announced', 3661), ('treated', 3671), ('pillow', 3681), ('independence', 3691), ('roasted', 3701), ('remote', 3711), ('slide', 3721), ('muslims', 3731), ('robin', 3741), ('educated', 3751), ('python', 3761), ('tribe', 3771), ('minds', 3781), ('homecoming', 3791), ('irish', 3801), ('observation', 3811), ('machines', 3821), ('congress', 3831), ('infra', 3841), ('uncle', 3851), ('nearly', 3861), ('ribs', 3871), ('screwed', 3881), ('bull', 3891), ('customers', 3901), ('deaf', 3911), ('checking', 3921), ('jon', 3931), ('celtics', 3941), ('2004', 3951), ('allergies', 3961), ('therapy', 3971), ('groceries', 3981), ('rabbits', 3991), ('beethoven', 4001), ('jerry', 4011), ('primarily', 4021), ('tasty', 4031), ('chatty', 4041), ('spread', 4051), ('182', 4061), ('throat', 4071), ('staff', 4081), ('twin', 4091), ('hurting', 4101), ('150', 4111), ('papa', 4121), ('areas', 4131), ('seafood', 4141), ('8255', 4151), ('stuffed', 4161), ('socks', 4171), ('carrying', 4181), ('nails', 4191), ('mountains', 4201), ('trips', 4211), ('quoting', 4221), ('ms', 4231), ('belt', 4241), ('promoting', 4251), ('caribbean', 4261), ('failed', 4271), ('cincinnati', 4281), ('preference', 4291), (\"one's\", 4301), ('snake', 4311), ('charity', 4321), ('invited', 4331), ('kit', 4341), ('poster', 4351), ('twain', 4361), (\"they'd\", 4371), ('officer', 4381), ('nintendo', 4391), ('midnight', 4401), ('reagan', 4411), ('lab', 4421), ('equation', 4431), ('injury', 4441), ('streets', 4451), ('sleepover', 4461), ('delaware', 4471), ('deleted', 4481), ('obstetric', 4491), ('grins', 4501), ('breaks', 4511), ('eleven', 4521), ('maroon', 4531), ('fill', 4541), ('alfredo', 4551), ('classes', 4561), ('cooler', 4571), ('voices', 4581), ('magical', 4591), ('outta', 4601), ('jarvis', 4611), ('succeed', 4621), ('stroke', 4631), ('sharp', 4641), ('cutting', 4651), ('flowing', 4661), ('damage', 4671), ('active', 4681), ('acts', 4691), ('kidz', 4701), ('puzzle', 4711), ('boiled', 4721), (\"freddy's\", 4731), ('franklin', 4741), ('avoiding', 4751), ('tl', 4761), ('troubles', 4771), ('portion', 4781), ('reputation', 4791), ('dropped', 4801), ('commune', 4811), ('nicole', 4821), ('customer', 4831), ('confirmation', 4841), ('mignon', 4851), ('lifted', 4861), ('rash', 4871), ('internal', 4881), ('patrick', 4891), ('drawn', 4901), ('bodyrox', 4911), ('neighbors', 4921), ('57', 4931), ('reggae', 4941), ('witness', 4951), ('reported', 4961), ('react', 4971), ('vitamin', 4981), ('solutions', 4991), ('savage', 5001), ('bubble', 5011), ('goofy', 5021), ('56', 5031), ('louise', 5041), ('tattoo', 5051), ('thick', 5061), ('employees', 5071), ('knocking', 5081), ('symbol', 5091), ('nascar', 5101), ('op', 5111), ('skull', 5121), ('vet', 5131), ('authority', 5141), ('iris', 5151), ('feminism', 5161), ('chad', 5171), ('cheesy', 5181), ('rainbows', 5191), ('squashed', 5201), ('females', 5211), ('pods', 5221), ('happier', 5231), ('boobs', 5241), ('claims', 5251), ('tickle', 5261), ('vehicle', 5271), ('uranus', 5281), ('newspaper', 5291), ('profit', 5301), ('organized', 5311), ('nyc', 5321), ('cbs', 5331), ('compared', 5341), ('ci', 5351), ('pixel', 5361), ('cruel', 5371), ('gum', 5381), ('finds', 5391), ('joint', 5401), ('bingo', 5411), ('sausage', 5421), ('scam', 5431), ('methods', 5441), ('values', 5451), ('induceve', 5461), ('exception', 5471), ('approximate', 5481), ('reviews', 5491), ('print', 5501), ('tracks', 5511), ('instruments', 5521), ('ion', 5531), ('boxes', 5541), ('port', 5551), ('sucked', 5561), ('feat', 5571), ('dakota', 5581), ('shirley', 5591), ('brownies', 5601), ('hay', 5611), ('massive', 5621), ('domain', 5631), ('traded', 5641), ('spicy', 5651), ('hire', 5661), ('stain', 5671), ('fur', 5681), ('fort', 5691), ('digits', 5701), ('profile', 5711), ('marvin', 5721), ('troy', 5731), ('privilege', 5741), ('skies', 5751), ('brightest', 5761), ('1978', 5771), ('cock', 5781), ('81', 5791), (\"men's\", 5801), ('cultures', 5811), ('astronomy', 5821), ('intimate', 5831), ('secure', 5841), ('angle', 5851), ('controls', 5861), ('dawn', 5871), ('pit', 5881), ('“if', 5891), ('pulsing', 5901), ('warrant', 5911), ('pour', 5921), ('shaped', 5931), ('headphones', 5941), ('bff', 5951), ('cheaper', 5961), ('rockies', 5971), ('seeking', 5981), ('backyard', 5991), ('lowest', 6001), (\"somebody's\", 6011), ('theatre', 6021), ('sets', 6031), ('ff', 6041), ('singers', 6051), ('rape', 6061), ('dust', 6071), ('artists', 6081), (\"where'd\", 6091), ('thousands', 6101), ('aircraft', 6111), ('discussing', 6121), (\"how're\", 6131), ('88', 6141), ('academic', 6151), ('reinstated', 6161), ('boats', 6171), ('operation', 6181), ('electronics', 6191), ('constructive', 6201), ('mic', 6211), ('montgomery', 6221), (\"johansson's\", 6231), ('involving', 6241), ('steelers', 6251), ('log', 6261), ('clueless', 6271), ('belly', 6281), ('concerns', 6291), ('appeal', 6301), ('katie', 6311), ('importance', 6321), ('grandaughter', 6331), ('squad', 6341), ('ripped', 6351), ('clan', 6361), ('snowing', 6371), ('soil', 6381), ('satisfied', 6391), ('jan', 6401), (\"she'd\", 6411), ('le', 6421), ('patty', 6431), ('darkness', 6441), ('cutest', 6451), ('copies', 6461), ('praise', 6471), ('spray', 6481), ('invest', 6491), ('oratorio', 6501), ('shaking', 6511), ('needing', 6521), ('historical', 6531), ('column', 6541), ('affordable', 6551), ('fundamental', 6561), ('gary', 6571), ('journalist', 6581), ('cartoons', 6591), ('sd', 6601), ('tails', 6611), ('cells', 6621), ('53', 6631), ('pops', 6641), ('inspect', 6651), ('chacha', 6661), ('greg', 6671), ('ensure', 6681), ('highlight', 6691), ('niggar', 6701), ('berlin', 6711), ('jandek', 6721), ('ooo', 6731), ('potty', 6741), ('ipa', 6751), ('welsh', 6761), ('bounce', 6771), ('highway', 6781), ('mentality', 6791), ('laguna', 6801), ('barber', 6811), ('rambling', 6821), ('jays', 6831), ('sexually', 6841), ('occasionally', 6851), ('virtually', 6861), ('aka', 6871), ('churchill', 6881), ('organize', 6891), ('beloved', 6901), ('muffin', 6911), ('evan', 6921), ('previously', 6931), ('twisted', 6941), ('rumors', 6951), ('tubular', 6961), ('vine', 6971), ('rome', 6981), ('hannah', 6991), ('threatening', 7001), ('psycho', 7011), (\"eclipse's\", 7021), ('drivers', 7031), ('lightbulb', 7041), ('usage', 7051), ('felinae', 7061), ('shooter', 7071), ('chaos', 7081), ('puffy', 7091), ('professor', 7101), ('terriers', 7111), ('attract', 7121), ('meals', 7131), ('testicles', 7141), ('nato', 7151), ('ankle', 7161), ('shapes', 7171), ('spit', 7181), ('trans', 7191), ('olivia', 7201), ('mothers', 7211), ('ricky', 7221), ('blew', 7231), ('directors', 7241), ('countryside', 7251), ('illustrated', 7261), ('rails', 7271), ('ea', 7281), ('glen', 7291), ('si', 7301), ('zucchini', 7311), ('pan', 7321), ('borax', 7331), ('intercom', 7341), ('burrata', 7351), ('lasting', 7361), ('supercalifragilisticexpialidocious', 7371), ('passionate', 7381), ('parrots', 7391), ('griffith', 7401), ('waves', 7411), ('pleasing', 7421), ('weasel', 7431), ('necklace', 7441), ('supplies', 7451), (\"yesterday's\", 7461), ('centered', 7471), ('blows', 7481), ('centimeters', 7491), ('indoor', 7501), ('migos', 7511), (\"valentine's\", 7521), ('listens', 7531), ('gomez', 7541), ('ensemble', 7551), ('proceed', 7561), ('insults', 7571), ('pros', 7581), ('conquer', 7591), ('dense', 7601), ('plantains', 7611), ('redness', 7621), ('utter', 7631), ('fastened', 7641), ('housing', 7651), ('cons', 7661), ('remainder', 7671), ('prizes', 7681), ('heel', 7691), ('pointed', 7701), ('douchebag', 7711), ('clinic', 7721), ('cooperation', 7731), ('singles', 7741), ('1972', 7751), ('sophia', 7761), ('burnt', 7771), ('enimplying', 7781), ('greatly', 7791), ('motivation', 7801), ('gamer', 7811), ('optical', 7821), ('carnegie', 7831), ('oscars', 7841), ('grape', 7851), ('demo', 7861), ('dell', 7871), ('lactose', 7881), ('firefly', 7891), ('actively', 7901), ('olympia', 7911), ('wimbledon', 7921), ('disrespect', 7931), ('sentient', 7941), ('oo', 7951), ('receiving', 7961), ('briefly', 7971), ('valentina', 7981), ('porch', 7991), ('survivor', 8001), ('aimed', 8011), ('possessions', 8021), ('spine', 8031), ('1154', 8041), ('reception', 8051), ('clark', 8061), ('ninth', 8071), ('stimuli', 8081), ('depend', 8091), ('94', 8101), ('entry', 8111), ('suitable', 8121), ('sailor', 8131), ('accents', 8141), ('316', 8151), ('sue', 8161), ('covering', 8171), ('ab', 8181), ('tanner', 8191), (\"'mexican'\", 8201), ('expresses', 8211), ('microphone', 8221), ('metric', 8231), ('doggy', 8241), ('discounts', 8251), ('kardashians', 8261), ('fx', 8271), ('steph', 8281), ('leprosy', 8291), ('bracelet', 8301), ('lively', 8311), ('anthology', 8321), ('cameo', 8331), ('progressive', 8341), ('aspect', 8351), ('accused', 8361), ('childish', 8371), ('dominated', 8381), ('poo', 8391), ('skylanders', 8401), ('seahorses', 8411), ('tagged', 8421), ('gilbert', 8431), ('feminists', 8441), ('sneak', 8451), ('chemicals', 8461), ('certainty', 8471), ('accomplishing', 8481), ('consuming', 8491), ('vr', 8501), ('logo', 8511), ('malfunction', 8521), ('variant', 8531), (\"0's\", 8541), ('entities', 8551), ('qatar', 8561), ('aviation', 8571), ('morally', 8581), ('investor', 8591), ('profession', 8601), ('critics', 8611), ('snapped', 8621), ('attending', 8631), ('ledger', 8641), ('kindly', 8651), (\"wholly'\", 8661), ('emotionally', 8671), ('ph', 8681), ('ariel', 8691), ('beware', 8701), ('armstrong', 8711), ('supremacy', 8721), ('elsewhere', 8731), ('premier', 8741), ('crawl', 8751), ('backed', 8761), ('favourite', 8771), ('testifying', 8781), ('engaged', 8791), (\"cornell's\", 8801), ('heartbreaking', 8811), ('cruelty', 8821), ('attempting', 8831), ('reminded', 8841), ('format', 8851), ('elijah', 8861), ('syntactic', 8871), ('madrid', 8881), ('duct', 8891), ('philosopher', 8901), ('mosul', 8911), ('relay', 8921), ('echos', 8931), ('unveils', 8941), ('competing', 8951), ('hosts', 8961), ('behaviour', 8971), ('obesity', 8981), ('complained', 8991), ('gagged', 9001), ('listing', 9011), ('rural', 9021), ('jefferson', 9031), ('bowing', 9041), ('oysters', 9051), ('rowling', 9061), ('hospitality', 9071), ('carlos', 9081), ('awakens', 9091), ('westbrook', 9101), ('hoo', 9111), ('koda', 9121), ('kidnapped', 9131), ('pointer', 9141), ('plumbing', 9151), ('homelessness', 9161), ('nexa', 9171), ('merrick', 9181), ('affection', 9191), ('tiles', 9201), ('subtle', 9211), ('socialize', 9221), ('buds', 9231), ('croissant', 9241), ('ima', 9251), ('surgeon', 9261), ('printer', 9271), ('pronunciation', 9281), ('provider', 9291), ('masturbating', 9301), ('galápagos', 9311), ('1861', 9321), ('flirt', 9331), ('skateboard', 9341), ('pikachū', 9351), ('aside', 9361), ('plymouth', 9371), ('indefinitely', 9381), ('tuna', 9391), ('cognitively', 9401), ('snuggle', 9411), ('asimov', 9421), ('144', 9431), ('appearing', 9441), ('eileen', 9451), ('yemen', 9461), ('pasadena', 9471), ('puzzles', 9481), ('cinema', 9491), ('cajun', 9501), ('dyes', 9511), ('w3cdtd', 9521), ('toni', 9531), ('elimination', 9541), ('prevented', 9551), ('adore', 9561), ('wente', 9571), ('leicester', 9581), ('ot', 9591), ('bipedal', 9601), ('philip', 9611), ('escaped', 9621), ('panels', 9631), ('worm', 9641), ('websites', 9651), ('cathy', 9661), ('supergirl', 9671), ('bishop', 9681), ('premium', 9691), ('screams', 9701), ('measurements', 9711), ('freestyle', 9721), ('licking', 9731), ('confidently', 9741), ('britney', 9751), ('saffron', 9761), ('bombing', 9771), ('agriculture', 9781), ('recover', 9791), ('pedoe', 9801), ('logically', 9811), ('mop', 9821), ('concretely', 9831), ('withdrawal', 9841), ('elevated', 9851), ('shorty', 9861), ('aback', 9871), ('geeks', 9881), ('parole', 9891), ('dissertation', 9901), ('similarities', 9911), ('strangest', 9921), ('sb', 9931), ('provided', 9941), ('classmates', 9951), ('ie', 9961), ('explode', 9971), ('somethings', 9981), (\"'totally'\", 9991), ('tinder', 10001), ('bloom', 10011), ('exceptionally', 10021), ('marcus', 10031), ('sovereignty', 10041), ('historian', 10051), ('sweepstakes', 10061), ('themed', 10071), ('boundary', 10081), ('hybrids', 10091), ('gather', 10101), ('unseen', 10111), ('exhaust', 10121), ('eve', 10131), ('1970s', 10141), ('11pm', 10151), ('honeymoon', 10161), ('pw', 10171), ('forbidden', 10181), ('vocals', 10191), ('teresa', 10201), ('jethro', 10211), ('didn’t', 10221), ('360', 10231), ('smokers', 10241), ('bumping', 10251), ('dynamics', 10261), ('genealogy', 10271), ('typos', 10281), ('timeless', 10291), ('prosperity', 10301), ('pygmies', 10311), ('acquire', 10321), ('beverly', 10331), ('cali', 10341), ('tbh', 10351), ('sebastian', 10361), ('unscented', 10371), ('1950', 10381), ('crumbs', 10391), ('obligated', 10401), ('preachers', 10411), ('initiated', 10421), ('obsession', 10431), ('headstrong', 10441), ('fourteen', 10451), ('haiku', 10461), ('thumb', 10471), ('flushed', 10481), ('barbies', 10491), ('viii', 10501), ('lemurs', 10511), ('notebook', 10521), ('savannah', 10531), ('plotting', 10541), ('sirens', 10551), ('ruff', 10561), ('angie', 10571), ('paralyzed', 10581), ('roar', 10591), ('proximity', 10601), ('parcel', 10611), ('mileage', 10621), ('analytical', 10631), ('desserts', 10641), ('macro', 10651), ('virtue', 10661), ('soho', 10671), ('robertson', 10681), ('loyalty', 10691), ('bale', 10701), ('ringo', 10711), ('francais', 10721), ('brazilian', 10731), ('mitchell', 10741), ('branched', 10751), ('uneventful', 10761), ('oyster', 10771), ('wrapping', 10781), ('chlorine', 10791), ('hobbits', 10801), ('appliance', 10811), (\"state's\", 10821), ('joaquin', 10831), ('marc', 10841), ('heating', 10851), ('requests', 10861), ('jailbreak', 10871), ('opener', 10881), ('remarkable', 10891), ('employed', 10901), ('groundhog', 10911), ('interpreted', 10921), ('daniels', 10931), ('su', 10941), ('•o', 10951), ('defender', 10961), ('geek', 10971), ('nominated', 10981), ('neanderthal', 10991), ('rushing', 11001), ('receiver', 11011), ('intestines', 11021), ('portrayed', 11031), ('bertram', 11041), ('governments', 11051), ('garment', 11061), ('soy', 11071), ('phillip', 11081), ('232', 11091), ('sonny', 11101), (\"lincoln's\", 11111), ('damaging', 11121), ('deity', 11131), ('magnets', 11141), (\"domino's\", 11151), ('aches', 11161), ('starters', 11171), ('540', 11181), ('variables', 11191), ('expressed', 11201), ('epa', 11211), ('burns', 11221), ('topography', 11231), ('debit', 11241), ('emirates', 11251), ('kimchi', 11261), ('dyed', 11271), ('ounce', 11281), ('eponymous', 11291), ('nana', 11301), ('selfies', 11311), ('fuzzy', 11321), ('raymond', 11331), ('plank', 11341), ('waist', 11351), (\"pandora's\", 11361), ('nurses', 11371), ('popsicle', 11381), ('zoe', 11391), ('deceased', 11401), ('brussels', 11411), ('refs', 11421), ('nanny', 11431), ('bunk', 11441), ('snacks', 11451), ('eighth', 11461), ('chicks', 11471), ('melting', 11481), ('bella', 11491), ('sway', 11501), ('hillside', 11511), ('doo', 11521), ('obscene', 11531), ('edgy', 11541), ('jade', 11551), ('satellites', 11561), (\"dolphin's\", 11571), (\"bunk'd\", 11581), ('recreation', 11591), (\"cowell's\", 11601), ('dennis', 11611), (\"cupid's\", 11621), ('1006', 11631), ('tolerance', 11641), ('inflammation', 11651), ('tsunami', 11661), ('scored', 11671), ('sinai', 11681), ('commanded', 11691), ('papaya', 11701), ('artie', 11711), ('authenticity', 11721), ('encyclopedia', 11731), ('clearwater', 11741), ('jamming', 11751), ('wimey', 11761), ('departure', 11771), ('marsden', 11781), ('intimidating', 11791), ('discovering', 11801), (\"butterflies'\", 11811), ('isley', 11821), ('cans', 11831), ('cigar', 11841), ('gershwin', 11851), ('mayhem', 11861), ('ridgeline', 11871), ('hasbro', 11881), ('injustice', 11891), ('clara', 11901), ('laos', 11911), ('cartridges', 11921), ('rodent', 11931), ('underwhelming', 11941), ('scrubs', 11951), ('teat', 11961), ('misleading', 11971), ('waltz', 11981), ('yt', 11991), ('betrayed', 12001), ('teairra', 12011), ('illuminating', 12021), ('endamn', 12031), ('stride', 12041), ('wiser', 12051), ('trendy', 12061), ('handicapped', 12071), ('shorten', 12081), ('bunker', 12091), ('standalone', 12101), ('halp', 12111), ('sentenced', 12121), ('commandment', 12131), ('blizzard', 12141), ('fattest', 12151), ('mca', 12161), ('protestors', 12171), ('ruler', 12181), ('grabs', 12191), ('eloration', 12201), ('leviosa', 12211), ('tammy', 12221), ('lawsuit', 12231), ('980s', 12241), ('snip', 12251), ('ether', 12261), ('hindu', 12271), ('breathed', 12281), ('imagines', 12291), (\"zealand's\", 12301), ('investigators', 12311), ('batonnet', 12321), ('tucker', 12331), ('empowering', 12341), ('priest', 12351), ('kaylee', 12361), ('bipolar', 12371), ('tidal', 12381), ('beatboxing', 12391), ('cornwall', 12401), ('cayenne', 12411), ('mapped', 12421), ('rarely', 12431), ('augusta', 12441), ('franchises', 12451), (\"kyle's\", 12461), ('correctness', 12471), ('jansen', 12481), ('impulsivity', 12491), ('dundee', 12501), ('lizards', 12511), ('lao', 12521), ('dealt', 12531), ('hutchinson', 12541), ('discriminate', 12551), ('650', 12561), ('electrocuted', 12571), ('lmfao', 12581), ('madras', 12591), ('jorge', 12601), ('letoya', 12611), ('trials', 12621), ('tendency', 12631), ('discernment', 12641), ('competitors', 12651), ('chooses', 12661), ('toads', 12671), ('12km', 12681), ('res', 12691), ('fellatio', 12701), ('orientation', 12711), ('cialis', 12721), ('newspapers', 12731), ('nixon', 12741), ('sliding', 12751), ('uniforms', 12761), ('crippled', 12771), ('bangs', 12781), ('diamondbacks', 12791), ('grammatically', 12801), ('laboratory', 12811), ('tk', 12821), ('stroll', 12831), ('pratt', 12841), ('barbecuing', 12851), ('romper', 12861), ('202', 12871), ('diploma', 12881), ('438', 12891), ('ala', 12901), ('simpleton', 12911), ('risen', 12921), ('estas', 12931), ('clyde', 12941), ('badnik', 12951), ('ranges', 12961), ('shaved', 12971), ('ks', 12981), ('platitudes', 12991), ('bony', 13001), ('rp', 13011), ('mayflowers', 13021), ('czech', 13031), ('quoque', 13041), ('eta', 13051), ('til', 13061), ('elegant', 13071), ('warmth', 13081), ('carney', 13091), ('ignition', 13101), ('picard', 13111), ('moist', 13121), ('nba2k', 13131), ('marta', 13141), ('steampunk', 13151), ('audrey', 13161), ('astral', 13171), ('photographing', 13181), ('peeing', 13191), ('cared', 13201), ('shuttle', 13211), ('discussions', 13221), ('legitimacy', 13231), ('dt', 13241), ('lenny', 13251), ('correspondence', 13261), ('rec', 13271), ('nandiala', 13281), ('generalize', 13291), ('cursing', 13301), ('appearances', 13311), ('horrified', 13321), ('neutral', 13331), ('shutting', 13341), ('toss', 13351), ('luxuries', 13361), ('1850', 13371), (\"cher's\", 13381), ('bumbum', 13391), ('laundrymat', 13401), ('lactase', 13411), ('unchallenged', 13421), ('daemons', 13431), ('statues', 13441), ('wipeout', 13451), ('shinedown', 13461), ('selfless', 13471), ('clade', 13481), ('chattering', 13491), ('₹64', 13501), ('upstate', 13511), ('frightened', 13521), ('uncertain', 13531), ('hiya', 13541), ('duration', 13551), ('valleys', 13561), ('unworthy', 13571), ('unemployment', 13581), ('accompanies', 13591), ('crystals', 13601), ('insecticide', 13611), ('gaelic', 13621), ('oblast', 13631), ('hen', 13641), ('winky', 13651), ('solamente', 13661), ('caveat', 13671), ('patricia', 13681), ('laureate', 13691), ('touts', 13701), ('slowest', 13711), ('researchers', 13721), ('ddp', 13731), ('successes', 13741), ('rinsing', 13751), ('141592653589793238462643383279502884197169399375105820974944592307816406286208998628034825342117067982148086513282306647093844609550582231725359408128481117450284102701938521105559644622948954930381964428810975665933446128475648233786', 13761), ('hurtful', 13771), ('beatle', 13781), ('intimidated', 13791), ('welcom', 13801), ('overrun', 13811), ('magically', 13821), ('dismiss', 13831), ('lemons', 13841), ('crushes', 13851), ('pixies', 13861), ('bending', 13871), ('yhi', 13881), ('tending', 13891), ('omnivorous', 13901), ('physician', 13911), ('betray', 13921), ('956', 13931), ('aims', 13941), ('seventeen', 13951), ('arthritis', 13961), ('cami', 13971), ('durham', 13981), (\"'pretentious'\", 13991), ('cunt', 14001), ('reactor', 14011), ('delayed', 14021), ('102', 14031), ('forum', 14041), ('hides', 14051), ('rematch', 14061), ('prisons', 14071), ('comrade', 14081), ('jamie', 14091), ('collard', 14101), ('orchard', 14111), (\"90'\", 14121), ('gilligan', 14131), ('tcl', 14141), ('insecurity', 14151), ('inconvenience', 14161), ('psychological', 14171), ('tracey', 14181), ('kari', 14191), (\"'latest'\", 14201), ('wendy', 14211), ('revolutionize', 14221), ('cerebral', 14231), ('satirical', 14241), ('topical', 14251), ('budgeting', 14261), ('kurdish', 14271), ('yorkshire', 14281), ('quentin', 14291), (\"mommy's\", 14301), ('brides', 14311), ('aleutian', 14321), ('regurgitating', 14331), ('seery', 14341), ('hobgoblin', 14351), ('wilmette', 14361), ('kroger', 14371), ('charities', 14381), ('axle', 14391), ('ingrate', 14401), ('noses', 14411), ('osmond', 14421), ('cricketer', 14431), (\"love's\", 14441), ('monkees', 14451), ('complains', 14461), ('chemist', 14471), ('pier', 14481), ('eertise', 14491), ('mifflin', 14501), ('minis', 14511), ('1797', 14521), ('behavioral', 14531), ('lackluster', 14541), ('clipping', 14551), ('fins', 14561), ('heems', 14571), ('babble', 14581), ('reread', 14591), ('tuba', 14601), ('coiled', 14611), ('computation', 14621), ('rear', 14631), ('fdr', 14641), ('parked', 14651), (\"hydrogen's\", 14661), ('catalyst', 14671), ('qq', 14681), ('basing', 14691), ('rstuvwxy', 14701), ('almighty', 14711), ('rods', 14721), ('glove', 14731), ('spends', 14741), ('jags', 14751), ('priests', 14761), ('levity', 14771), ('pegg', 14781), ('accommodate', 14791), ('1858', 14801), (\"'discontinue'\", 14811), ('refreshed', 14821), ('hubs', 14831), ('achy', 14841), ('sutherland', 14851), ('50th', 14861), ('dialects', 14871), ('bins', 14881), ('supersonics', 14891), ('extremist', 14901), ('tote', 14911), ('sciatica', 14921), ('pancreas', 14931), ('laka', 14941), ('delighted', 14951), ('infrequent', 14961), ('shasta', 14971), ('succeeded', 14981), ('napped', 14991), ('standpoint', 15001), ('mistaken', 15011), ('comedians', 15021), ('afc', 15031), ('ogden', 15041), ('grails', 15051), ('wolverhampton', 15061), ('weisberg', 15071), ('involve', 15081), ('permitting', 15091), ('runescape', 15101), ('riddance', 15111), ('resigning', 15121), ('guerrero', 15131), ('josiah', 15141), ('neoseps', 15151), ('amd', 15161), ('hauling', 15171), ('directing', 15181), ('reeve', 15191), ('bea', 15201), ('dweller', 15211), ('dragging', 15221), ('brewed', 15231), ('inconvenient', 15241), ('skeptical', 15251), ('parcels', 15261), ('sues', 15271), ('milestone', 15281), ('possession', 15291), ('cuttlefish', 15301), ('parlez', 15311), ('unbalanced', 15321), ('xanax', 15331), ('dank', 15341), ('ashes', 15351), ('shiver', 15361), ('nery', 15371), ('fund', 15381), ('gong', 15391), ('damaged', 15401), ('rapunzel', 15411), ('airship', 15421), ('zen', 15431), ('barbequed', 15441), ('sling', 15451), ('kip', 15461), (\"guy's\", 15471), ('yuppies', 15481), ('mantra', 15491), ('larvae', 15501), ('predicts', 15511), ('sansa', 15521), ('conman', 15531), ('cyrus', 15541), ('woolly', 15551), ('destin', 15561), ('purcell', 15571), ('boggie', 15581), ('swimmy', 15591), ('dement', 15601), (\"wherever'\", 15611), ('ginter', 15621), ('covert', 15631), ('mort', 15641), ('yow', 15651), ('weenie', 15661), ('multiply', 15671), (\"fallon's\", 15681), ('detonation', 15691), ('ahoy', 15701), ('dickinson', 15711), ('epstein', 15721), ('saxophone', 15731), ('ros', 15741), ('292', 15751), ('sterotypical', 15761), ('fic', 15771), ('tenner', 15781), ('261', 15791), ('discomfort', 15801), ('gasp', 15811), ('angelie', 15821), ('parkrun', 15831), ('regulate', 15841), ('donating', 15851), ('cabezas', 15861), ('evans', 15871), ('bordering', 15881), ('fats', 15891), ('marsha', 15901), ('disciplines', 15911), (\"'expect'\", 15921), ('stocking', 15931), ('resuscitation', 15941), ('asteroid', 15951), ('donde', 15961), ('bernadette', 15971), ('outcry', 15981), ('exclusionary', 15991), ('parasite', 16001), ('seminary', 16011), ('sully', 16021), ('temperament', 16031), (\"more'\", 16041), ('taxidea', 16051), (\"year'\", 16061), ('ittttt', 16071), ('affectionate', 16081), ('preds', 16091), ('superficial', 16101), ('1380', 16111), ('freeloader', 16121), ('190', 16131), ('realty', 16141), (\"blowin'\", 16151), (\"'best'\", 16161), ('narrowest', 16171), ('threaten', 16181), ('airhead', 16191), ('jpeg', 16201), ('minky', 16211), ('ou', 16221), ('vitis', 16231), ('flamin', 16241), ('brainer', 16251), ('brig', 16261), ('costly', 16271), ('bloodthirsty', 16281), (\"karen's\", 16291), ('ezest', 16301), ('broth', 16311), ('eventful', 16321), ('reliability', 16331), (\"'volume'\", 16341), ('gibbon', 16351), ('conspicuous', 16361), ('breckenridge', 16371), ('defying', 16381), ('fd', 16391), ('doubtful', 16401), ('sayonaro', 16411), ('sleazy', 16421), (\"peach's\", 16431), ('armageddon', 16441), (\"allen's\", 16451), ('proteins', 16461), ('unbranded', 16471), ('oodles', 16481), ('habitats', 16491), ('autocue', 16501), (\"ship's\", 16511), ('waterway', 16521), ('admiration', 16531), ('malonic', 16541), ('playmates', 16551), ('drunkenly', 16561), ('strung', 16571), ('stonewalled', 16581), ('edification', 16591), ('epidemic', 16601), ('whereas', 16611), (\"peanut's\", 16621), ('tad', 16631), ('ughhh', 16641), ('cutie', 16651), ('neske', 16661), ('sleepovers', 16671), ('gnade', 16681), ('cheerful', 16691), ('sinkings', 16701), ('89th', 16711), ('joff', 16721), ('c4', 16731), ('trisa', 16741), (\"elise's\", 16751), ('factually', 16761), ('stargaze', 16771), ('pinky', 16781), ('compass', 16791), ('dangerously', 16801), ('snuggles', 16811), ('3270', 16821), ('rodgers', 16831), ('tiësto', 16841), ('fanny', 16851), ('richer', 16861), ('secur', 16871), ('leonetti', 16881), ('freestate', 16891), ('kardashin', 16901), (\"'cruise'\", 16911), ('jeeps', 16921), (\"billboard's\", 16931), ('biddle', 16941), ('crazies', 16951), ('testis', 16961), ('admirers', 16971), ('oates', 16981), ('spary', 16991), (\"valenti's\", 17001), ('herehuman', 17011), ('unusually', 17021), ('lining', 17031), (\"leigh's\", 17041), ('shaun', 17051), ('isthmus', 17061), ('manhood', 17071), ('moan', 17081), ('chucking', 17091), ('whys', 17101), ('combs', 17111), (\"v's\", 17121), ('14159', 17131), ('gardeners', 17141), ('082', 17151), ('818', 17161), ('megabites', 17171), ('geico', 17181), ('77th', 17191), ('ec', 17201), ('bedrooms', 17211), ('retailers', 17221), ('clinkers', 17231), ('skins', 17241), ('starfleet', 17251), ('gonarea', 17261), ('victimized', 17271), ('duas', 17281), ('brownjohn', 17291), ('vyla', 17301), (\"arkansas'\", 17311), ('blaine', 17321), ('neutrogena', 17331), (\"'have\", 17341), ('armoured', 17351), ('phyllis', 17361), ('flatulate', 17371), ('10018', 17381), ('retiarius', 17391), ('gaseous', 17401), ('shura', 17411), ('goldenrod', 17421), ('westmore', 17431), ('occasion', 17441), ('2030', 17451), ('daphne', 17461), ('moogle', 17471), ('cranking', 17481), ('elses', 17491), ('bluesier', 17501), ('komló', 17511), ('academically', 17521), ('muting', 17531), ('kurtz', 17541), ('arseholes', 17551), ('memoranda', 17561), ('icing', 17571), ('fandango', 17581), ('mahabharata', 17591), ('deprived', 17601), ('charlatan', 17611), ('chucked', 17621), (\"'no'\", 17631), ('devin', 17641), ('rotation', 17651), ('offshoot', 17661), ('adversity', 17671), ('straightening', 17681), ('letdown', 17691), ('spiked', 17701), (\"kathleen's\", 17711), ('gbv', 17721), ('1010100010111001110', 17731), (\"samson's\", 17741), ('185', 17751), ('outsmarting', 17761), (\"user's\", 17771), ('organist', 17781), ('francesca', 17791), ('bast', 17801), ('teething', 17811), ('bien', 17821), ('tyty', 17831), ('reformed', 17841), ('oppresed', 17851), ('tyrant', 17861), ('serpents', 17871), ('cinder', 17881), ('vying', 17891), ('buckling', 17901), ('occasional', 17911), ('scouts', 17921), (\"'anything\", 17931), ('27788188555', 17941), ('damian', 17951), ('dumpster', 17961), ('drifter', 17971), ('toil', 17981), ('onalaska', 17991), ('belgium', 18001), ('esposito', 18011), ('stockings', 18021), ('kafka', 18031), ('zeta', 18041), ('20min', 18051), ('oken', 18061), ('casinos', 18071), ('lollies', 18081), ('puff', 18091), ('wipers', 18101), ('kohl', 18111), ('deliciousness', 18121), ('patting', 18131), ('firework', 18141), ('powerviolence', 18151), ('1250', 18161), ('oki', 18171), ('frogman', 18181), ('accom', 18191), ('ligue', 18201), ('heathen', 18211), ('chipsets', 18221), (\"logan's\", 18231), (\"'medically'\", 18241), ('mtp', 18251), ('oooooooooooooooooohhhhhhhhhhhhhhhhhhhhhhhhhhhhhhhhhhhhhhhhhh', 18261), ('glittery', 18271), ('hepburn', 18281), ('diagnose', 18291), ('000000', 18301), ('permitted', 18311), ('brainwash', 18321), ('regressed', 18331), ('pfft', 18341), ('uneasy', 18351), (\"human's\", 18361), ('scrolling', 18371), ('modesto', 18381), ('cantante', 18391), ('relying', 18401), ('malware', 18411), ('portend', 18421), ('pads', 18431), ('cherokee', 18441), ('laptops', 18451), ('1045', 18461), ('torso', 18471), ('conjugate', 18481), ('itive', 18491), ('violate', 18501), ('hoops', 18511), ('bashed', 18521), ('sculpture', 18531), ('ringer', 18541), ('esme', 18551), ('chucky', 18561), ('181', 18571), ('sinensis', 18581), ('hahahahahahahahahaha', 18591), ('shooz', 18601), ('lighthearted', 18611), ('caligari', 18621), ('murinae', 18631), ('dysphoria', 18641), ('medalist', 18651), ('darwinism', 18661), ('hoaxes', 18671), ('easternmost', 18681), ('gst', 18691), ('britten', 18701), ('kendal', 18711), ('acceleration', 18721), ('friar', 18731), ('ohhhhh', 18741), ('314', 18751), ('stylists', 18761), ('apostrophe', 18771), ('bluster', 18781), ('hamitic', 18791), ('foggy', 18801), ('noir', 18811), ('chatline', 18821), ('luxe', 18831), ('encould', 18841), ('frightening', 18851), ('bolivia', 18861), (\"iceland's\", 18871), ('councilman', 18881), ('shaffer', 18891), ('violets', 18901), ('bludger', 18911), ('gullible', 18921), (\"com's\", 18931), ('pikachu', 18941), ('rafa', 18951), ('herder', 18961), ('cristian', 18971), ('laetitia', 18981), ('rockgrunge', 18991), ('amish', 19001), ('economically', 19011), ('156m', 19021), ('petro', 19031), (\"'properly'\", 19041), ('dupre', 19051), ('begs', 19061), ('steaming', 19071), ('morderre', 19081), ('blogilates', 19091), ('horovitz', 19101), ('konrad', 19111), ('stanton', 19121), ('sauced', 19131), ('kawasaki', 19141), ('sicker', 19151), ('melina', 19161), ('grassit', 19171), (\"atheist's\", 19181), ('procrastinate', 19191), ('dubble', 19201), ('aggies', 19211), ('athens', 19221), ('ipecac', 19231), ('chatterbot', 19241), ('centralia', 19251), ('beginner', 19261), ('cupid', 19271), ('knuckles', 19281), ('suspends', 19291), ('radcliffe', 19301), ('spanked', 19311), ('wearables', 19321), ('convulsive', 19331), ('mystical', 19341), ('goodie', 19351), ('acoetes', 19361), ('cosigners', 19371), ('eros', 19381), ('lash', 19391), ('keeshond', 19401), ('krishnaswami', 19411), (\"sunset's\", 19421), ('humvee', 19431), ('9196666666', 19441), ('fetishes', 19451), ('glows', 19461), ('adlard', 19471), ('subcontinent', 19481), ('2b', 19491), ('distilled', 19501), ('livestream', 19511), (\"'clearly'\", 19521), ('horrid', 19531), ('pesky', 19541), ('tanks', 19551), ('valeria', 19561), ('micheal', 19571), ('mears', 19581), ('woodstock', 19591), ('thermometer', 19601), ('soprano', 19611), ('depended', 19621), ('humankind', 19631), ('utes', 19641), ('interacting', 19651), ('broodmare', 19661), ('humphrey', 19671), ('t1oo', 19681), ('criticize', 19691), ('accountancy', 19701), (\"ya's\", 19711), ('rack', 19721), ('70°', 19731), ('icicle', 19741), ('greensboro', 19751), ('briana', 19761), ('eyeballs', 19771), ('rosary', 19781), ('dorks', 19791), ('posts', 19801), ('enshe', 19811), (\"h's\", 19821), ('abuerrido', 19831), ('icarus', 19841), ('063', 19851), ('tans', 19861), ('curved', 19871), ('unconditional', 19881), ('trillion', 19891), ('testy', 19901), ('213', 19911), (\"bra's\", 19921), ('laudable', 19931), ('arthropod', 19941), ('henderson', 19951), ('sauli', 19961), ('attain', 19971), (\"grandpa's\", 19981), (\"hangover's\", 19991)]\n"
     ]
    }
   ],
   "source": [
    "print(WORD_INDEX_SORTED[0:20000:10])\n"
   ]
  },
  {
   "cell_type": "code",
   "execution_count": null,
   "metadata": {},
   "outputs": [],
   "source": [
    "    df_reviews['len'] = df_reviews.text.str.len()\n"
   ]
  },
  {
   "cell_type": "code",
   "execution_count": null,
   "metadata": {},
   "outputs": [],
   "source": [
    "%matplotlib inline\n",
    "df_reviews.len.hist(bins=40)"
   ]
  },
  {
   "cell_type": "code",
   "execution_count": null,
   "metadata": {},
   "outputs": [],
   "source": [
    "df_reviews.rating.round()"
   ]
  },
  {
   "cell_type": "code",
   "execution_count": null,
   "metadata": {},
   "outputs": [],
   "source": [
    "df_reviews[df_reviews['len'].between(10, 4000)].shape"
   ]
  },
  {
   "cell_type": "code",
   "execution_count": null,
   "metadata": {},
   "outputs": [],
   "source": [
    "    df_rev_balanced = minority_balance_dataframe_by_multiple_categorical_variables(\n",
    "        df_reviews,\n",
    "        categorical_columns=['rating'],\n",
    "        downsample_by=0.1\n",
    "    )\n"
   ]
  },
  {
   "cell_type": "code",
   "execution_count": null,
   "metadata": {},
   "outputs": [],
   "source": [
    "df_rev_balanced.shape"
   ]
  },
  {
   "cell_type": "code",
   "execution_count": null,
   "metadata": {},
   "outputs": [],
   "source": [
    "df_rev_balanced"
   ]
  },
  {
   "cell_type": "code",
   "execution_count": null,
   "metadata": {},
   "outputs": [],
   "source": [
    "minority_class_combination_count = df_reviews.groupby('rating').apply(lambda x: x.shape[0]).min()\n"
   ]
  },
  {
   "cell_type": "code",
   "execution_count": null,
   "metadata": {},
   "outputs": [],
   "source": [
    "minority_class_combination_count"
   ]
  },
  {
   "cell_type": "code",
   "execution_count": null,
   "metadata": {},
   "outputs": [],
   "source": [
    "downsample_by=0.1"
   ]
  },
  {
   "cell_type": "code",
   "execution_count": null,
   "metadata": {},
   "outputs": [],
   "source": [
    "    minority_class_combination_count = int(minority_class_combination_count * downsample_by)\n"
   ]
  },
  {
   "cell_type": "code",
   "execution_count": null,
   "metadata": {},
   "outputs": [],
   "source": [
    "minority_class_combination_count"
   ]
  },
  {
   "cell_type": "code",
   "execution_count": null,
   "metadata": {},
   "outputs": [],
   "source": [
    "df_reviews.groupby('rating').groups"
   ]
  },
  {
   "cell_type": "code",
   "execution_count": null,
   "metadata": {},
   "outputs": [],
   "source": [
    "    df_reviews = pd.read_csv('oneperline.csv')  # , encoding='utf-8')\n",
    "    df_reviews['len'] = df_reviews.text.str.len()\n",
    "    df_reviews['rating'] = df_reviews['rating'].round()\n",
    "    df_reviews = df_reviews[df_reviews['len'].between(10, 4000)]\n",
    "    #     df_reviews = df_reviews[df_reviews.language == 'en']\n",
    "    # balancing dataset\n",
    "    df_rev_balanced = minority_balance_dataframe_by_multiple_categorical_variables(\n",
    "        df_reviews,\n",
    "        categorical_columns=['rating'],\n",
    "        downsample_by=0.5\n",
    "    )\n"
   ]
  },
  {
   "cell_type": "code",
   "execution_count": null,
   "metadata": {},
   "outputs": [],
   "source": [
    "df_rev_balanced.shape"
   ]
  },
  {
   "cell_type": "code",
   "execution_count": null,
   "metadata": {},
   "outputs": [],
   "source": [
    "df_reviews.shape"
   ]
  },
  {
   "cell_type": "code",
   "execution_count": null,
   "metadata": {},
   "outputs": [],
   "source": [
    "msk = np.random.rand(len(df_reviews)) < 0.8"
   ]
  },
  {
   "cell_type": "code",
   "execution_count": null,
   "metadata": {},
   "outputs": [],
   "source": [
    "msk"
   ]
  },
  {
   "cell_type": "code",
   "execution_count": null,
   "metadata": {},
   "outputs": [],
   "source": [
    "    df_reviews = pd.read_csv('oneperline.csv')  # , encoding='utf-8')\n",
    "    df_reviews['len'] = df_reviews.text.str.len()\n",
    "    df_reviews['rating'] = df_reviews['rating'].round()\n",
    "    df_reviews = df_reviews[df_reviews['len'].between(10, 4000)]\n",
    "\n",
    "    df_train, df_test = split_train_test_set(df_reviews)\n",
    "\n",
    "    df_train.to_csv('train.csv', encoding='utf-8')\n",
    "    df_test.to_csv('test.csv', encoding='utf-8')\n",
    "\n",
    "    tokenizer = Tokenizer(nb_words=MAX_NB_WORDS)\n",
    "    tokenizer.fit_on_texts(df_train.text.tolist())\n",
    "    joblib.dump(tokenizer, 'tokenizer.pickle')\n",
    "\n",
    "    WORD_INDEX_SORTED = sorted(tokenizer.word_index.items(), key=operator.itemgetter(1))\n",
    "\n",
    "    seqs = tokenizer.texts_to_sequences(df_train.text.values)\n",
    "    X = pad_sequences(seqs, maxlen=MAX_SEQUENCE_LENGTH)\n",
    "    Y = df_train.rating.values.astype(int)\n",
    "    Y_cat = to_categorical(Y)\n",
    "    assert X.shape[0] == Y.shape[0]\n",
    "    X_train, X_test, y_train, y_test = train_test_split(X, Y_cat, test_size=0.2, random_state=9)\n",
    "    with pd.HDFStore('x_y_test_train.h5') as h:\n",
    "        h['X_train'] = pd.DataFrame(X_train)\n",
    "        h['X_test'] = pd.DataFrame(X_test)\n",
    "        h['y_train'] = pd.DataFrame(y_train)\n",
    "        h['y_test'] = pd.DataFrame(y_test)"
   ]
  },
  {
   "cell_type": "code",
   "execution_count": null,
   "metadata": {},
   "outputs": [],
   "source": [
    "    df_reviews = pd.read_csv('oneperline.csv')  # , encoding='utf-8')\n",
    "    df_reviews['len'] = df_reviews.text.str.len()\n",
    "    df_reviews['rating'] = df_reviews['rating'].round()\n",
    "    df_reviews = df_reviews[df_reviews['len'].between(10, 4000)]\n",
    "    #     df_reviews = df_reviews[df_reviews.language == 'en']\n",
    "    # balancing dataset\n",
    "    df_rev_balanced = df_reviews\n",
    "\n",
    "    df_rev_balanced.to_csv('balanced_reviews.csv', encoding='utf-8')\n",
    "\n",
    "    tokenizer = Tokenizer(nb_words=MAX_NB_WORDS)\n",
    "    tokenizer.fit_on_texts(df_rev_balanced.text.tolist())\n",
    "    joblib.dump(tokenizer, 'tokenizer.pickle')\n",
    "\n",
    "    WORD_INDEX_SORTED = sorted(tokenizer.word_index.items(), key=operator.itemgetter(1))\n",
    "\n",
    "    seqs = tokenizer.texts_to_sequences(df_rev_balanced.text.values)\n",
    "    X = pad_sequences(seqs, maxlen=MAX_SEQUENCE_LENGTH)\n",
    "    Y = df_rev_balanced.rating.values.astype(int)\n",
    "    Y_cat = to_categorical(Y)\n",
    "    assert X.shape[0] == Y.shape[0]\n",
    "    X_train, X_test, y_train, y_test = train_test_split(X, Y_cat, test_size=0.2, random_state=9)\n",
    "    with pd.HDFStore('x_y_test_train.h5') as h:\n",
    "        h['X_train'] = pd.DataFrame(X_train)\n",
    "        h['X_test'] = pd.DataFrame(X_test)\n",
    "        h['y_train'] = pd.DataFrame(y_train)\n",
    "        h['y_test'] = pd.DataFrame(y_test)"
   ]
  },
  {
   "cell_type": "code",
   "execution_count": null,
   "metadata": {},
   "outputs": [],
   "source": [
    "h"
   ]
  },
  {
   "cell_type": "code",
   "execution_count": null,
   "metadata": {},
   "outputs": [],
   "source": [
    "\n",
    "# prepare embedding matrix\n",
    "embedding_index = load_glove_into_dict(GLOVE_DIR)\n",
    "nb_words = min(MAX_NB_WORDS, len(WORD_INDEX_SORTED))\n",
    "embedding_matrix = np.zeros((nb_words, EMBEDDING_DIM))\n",
    "for word, i in tokenizer.word_index.items():\n",
    "    if i >= MAX_NB_WORDS:\n",
    "        continue\n",
    "    embedding_vector = embedding_index.get(word)\n",
    "    if embedding_vector is not None:\n",
    "        # words not found in embedding index will be all-zeros.\n",
    "        embedding_matrix[i] = embedding_vector"
   ]
  },
  {
   "cell_type": "code",
   "execution_count": null,
   "metadata": {},
   "outputs": [],
   "source": [
    "df_rev_balanced.groupby('rating')['len'].hist(alpha=0.1)\n",
    "print('number of words in GLOVE: {}'.format(len(embedding_index)))\n",
    "WORD_INDEX_SORTED[0:100:10]"
   ]
  },
  {
   "cell_type": "code",
   "execution_count": null,
   "metadata": {},
   "outputs": [],
   "source": [
    "Y_cat"
   ]
  },
  {
   "cell_type": "code",
   "execution_count": null,
   "metadata": {},
   "outputs": [],
   "source": [
    "df_rev_balanced.groupby('rating')['len'].hist(alpha=0.1)\n",
    "print('number of words in GLOVE: {}'.format(len(embedding_index)))\n",
    "WORD_INDEX_SORTED[0:100:10]"
   ]
  },
  {
   "cell_type": "code",
   "execution_count": null,
   "metadata": {},
   "outputs": [],
   "source": [
    "filepath=\"imp-{epoch:02d}-{val_acc:.2f}.hdf5\"\n",
    "checkpoint = ModelCheckpoint(filepath, monitor='val_acc', verbose=1, save_best_only=True, mode='max')\n",
    "csv_logger = CSVLogger('training_history.csv')\n",
    "history = History()\n",
    "callbacks_list = [checkpoint, history, csv_logger]\n",
    "model = Sequential()\n",
    "\n",
    "model.add(Embedding(input_dim=nb_words,\n",
    "                    output_dim=EMBEDDING_DIM,\n",
    "                    input_length=MAX_SEQUENCE_LENGTH,\n",
    "                    weights=[embedding_matrix],\n",
    "                    trainable=False)\n",
    ")\n",
    "\n",
    "model.add(GRU(100, return_sequences=True))\n",
    "model.add(Dropout(0.2))\n",
    "model.add(GRU(100))\n",
    "model.add(Dropout(0.2))\n",
    "model.add(Dense(6, activation='softmax'))\n",
    "model.compile(loss='categorical_crossentropy', optimizer='rmsprop', metrics=['accuracy'])\n",
    "print(model.summary())\n",
    "model.fit(X_test,\n",
    "          y_test,\n",
    "          nb_epoch=30,\n",
    "          batch_size=128,\n",
    "          validation_data=(X_test, y_test),\n",
    "          callbacks=callbacks_list\n",
    ")\n"
   ]
  },
  {
   "cell_type": "code",
   "execution_count": null,
   "metadata": {},
   "outputs": [],
   "source": [
    "import h5py"
   ]
  },
  {
   "cell_type": "code",
   "execution_count": null,
   "metadata": {},
   "outputs": [],
   "source": [
    "h5py"
   ]
  },
  {
   "cell_type": "code",
   "execution_count": null,
   "metadata": {},
   "outputs": [],
   "source": [
    "try:\n",
    "    import h5py\n",
    "except ImportError:\n",
    "    h5py = None"
   ]
  },
  {
   "cell_type": "code",
   "execution_count": null,
   "metadata": {},
   "outputs": [],
   "source": [
    "h5py"
   ]
  },
  {
   "cell_type": "code",
   "execution_count": null,
   "metadata": {},
   "outputs": [],
   "source": [
    "%run main.py"
   ]
  },
  {
   "cell_type": "code",
   "execution_count": 1,
   "metadata": {},
   "outputs": [
    {
     "name": "stderr",
     "output_type": "stream",
     "text": [
      "Using TensorFlow backend.\n",
      "/usr/local/Cellar/python3/3.6.1/Frameworks/Python.framework/Versions/3.6/lib/python3.6/importlib/_bootstrap.py:205: RuntimeWarning: compiletime version 3.5 of module 'tensorflow.python.framework.fast_tensor_util' does not match runtime version 3.6\n",
      "  return f(*args, **kwds)\n"
     ]
    },
    {
     "name": "stdout",
     "output_type": "stream",
     "text": [
      "number of words in GLOVE: 400000\n",
      "_________________________________________________________________\n",
      "Layer (type)                 Output Shape              Param #   \n",
      "=================================================================\n",
      "embedding_1 (Embedding)      (None, 1000, 100)         2000000   \n",
      "_________________________________________________________________\n",
      "gru_1 (GRU)                  (None, 1000, 100)         60300     \n",
      "_________________________________________________________________\n",
      "dropout_1 (Dropout)          (None, 1000, 100)         0         \n",
      "_________________________________________________________________\n",
      "gru_2 (GRU)                  (None, 100)               60300     \n",
      "_________________________________________________________________\n",
      "dropout_2 (Dropout)          (None, 100)               0         \n",
      "_________________________________________________________________\n",
      "dense_1 (Dense)              (None, 6)                 606       \n",
      "=================================================================\n",
      "Total params: 2,121,206\n",
      "Trainable params: 121,206\n",
      "Non-trainable params: 2,000,000\n",
      "_________________________________________________________________\n",
      "None\n"
     ]
    },
    {
     "name": "stderr",
     "output_type": "stream",
     "text": [
      "/usr/local/lib/python3.6/site-packages/keras/models.py:874: UserWarning: The `nb_epoch` argument in `fit` has been renamed `epochs`.\n",
      "  warnings.warn('The `nb_epoch` argument in `fit` '\n"
     ]
    },
    {
     "name": "stdout",
     "output_type": "stream",
     "text": [
      "Train on 13284 samples, validate on 3322 samples\n",
      "Epoch 1/30\n",
      "13184/13284 [============================>.] - ETA: 2s - loss: 1.5817 - acc: 0.2992Epoch 00001: val_acc improved from -inf to 0.32601, saving model to imp-01-0.33.hdf5\n",
      "13284/13284 [==============================] - 397s 30ms/step - loss: 1.5814 - acc: 0.2998 - val_loss: 1.5527 - val_acc: 0.3260\n",
      "Epoch 2/30\n",
      "13184/13284 [============================>.] - ETA: 2s - loss: 1.5539 - acc: 0.3158Epoch 00002: val_acc improved from 0.32601 to 0.32872, saving model to imp-02-0.33.hdf5\n",
      "13284/13284 [==============================] - 402s 30ms/step - loss: 1.5536 - acc: 0.3162 - val_loss: 1.5465 - val_acc: 0.3287\n",
      "Epoch 3/30\n",
      "13184/13284 [============================>.] - ETA: 2s - loss: 1.5420 - acc: 0.3229Epoch 00003: val_acc improved from 0.32872 to 0.32872, saving model to imp-03-0.33.hdf5\n",
      "13284/13284 [==============================] - 411s 31ms/step - loss: 1.5418 - acc: 0.3232 - val_loss: 1.5393 - val_acc: 0.3287\n",
      "Epoch 4/30\n",
      "  384/13284 [..............................] - ETA: 6:07 - loss: 1.5555 - acc: 0.2786"
     ]
    },
    {
     "ename": "KeyboardInterrupt",
     "evalue": "",
     "output_type": "error",
     "traceback": [
      "\u001b[0;31m---------------------------------------------------------------------------\u001b[0m",
      "\u001b[0;31mKeyboardInterrupt\u001b[0m                         Traceback (most recent call last)",
      "\u001b[0;32m~/Downloads/LSTM_rubystar/main.py\u001b[0m in \u001b[0;36m<module>\u001b[0;34m()\u001b[0m\n\u001b[1;32m    227\u001b[0m           \u001b[0mbatch_size\u001b[0m\u001b[0;34m=\u001b[0m\u001b[0;36m128\u001b[0m\u001b[0;34m,\u001b[0m\u001b[0;34m\u001b[0m\u001b[0m\n\u001b[1;32m    228\u001b[0m           \u001b[0mvalidation_data\u001b[0m\u001b[0;34m=\u001b[0m\u001b[0;34m(\u001b[0m\u001b[0mX_test\u001b[0m\u001b[0;34m,\u001b[0m \u001b[0my_test\u001b[0m\u001b[0;34m)\u001b[0m\u001b[0;34m,\u001b[0m\u001b[0;34m\u001b[0m\u001b[0m\n\u001b[0;32m--> 229\u001b[0;31m           \u001b[0mcallbacks\u001b[0m\u001b[0;34m=\u001b[0m\u001b[0mcallbacks_list\u001b[0m\u001b[0;34m\u001b[0m\u001b[0m\n\u001b[0m\u001b[1;32m    230\u001b[0m )\n",
      "\u001b[0;32m/usr/local/lib/python3.6/site-packages/keras/models.py\u001b[0m in \u001b[0;36mfit\u001b[0;34m(self, x, y, batch_size, epochs, verbose, callbacks, validation_split, validation_data, shuffle, class_weight, sample_weight, initial_epoch, **kwargs)\u001b[0m\n\u001b[1;32m    891\u001b[0m                               \u001b[0mclass_weight\u001b[0m\u001b[0;34m=\u001b[0m\u001b[0mclass_weight\u001b[0m\u001b[0;34m,\u001b[0m\u001b[0;34m\u001b[0m\u001b[0m\n\u001b[1;32m    892\u001b[0m                               \u001b[0msample_weight\u001b[0m\u001b[0;34m=\u001b[0m\u001b[0msample_weight\u001b[0m\u001b[0;34m,\u001b[0m\u001b[0;34m\u001b[0m\u001b[0m\n\u001b[0;32m--> 893\u001b[0;31m                               initial_epoch=initial_epoch)\n\u001b[0m\u001b[1;32m    894\u001b[0m \u001b[0;34m\u001b[0m\u001b[0m\n\u001b[1;32m    895\u001b[0m     def evaluate(self, x, y, batch_size=32, verbose=1,\n",
      "\u001b[0;32m/usr/local/lib/python3.6/site-packages/keras/engine/training.py\u001b[0m in \u001b[0;36mfit\u001b[0;34m(self, x, y, batch_size, epochs, verbose, callbacks, validation_split, validation_data, shuffle, class_weight, sample_weight, initial_epoch, steps_per_epoch, validation_steps, **kwargs)\u001b[0m\n\u001b[1;32m   1629\u001b[0m                               \u001b[0minitial_epoch\u001b[0m\u001b[0;34m=\u001b[0m\u001b[0minitial_epoch\u001b[0m\u001b[0;34m,\u001b[0m\u001b[0;34m\u001b[0m\u001b[0m\n\u001b[1;32m   1630\u001b[0m                               \u001b[0msteps_per_epoch\u001b[0m\u001b[0;34m=\u001b[0m\u001b[0msteps_per_epoch\u001b[0m\u001b[0;34m,\u001b[0m\u001b[0;34m\u001b[0m\u001b[0m\n\u001b[0;32m-> 1631\u001b[0;31m                               validation_steps=validation_steps)\n\u001b[0m\u001b[1;32m   1632\u001b[0m \u001b[0;34m\u001b[0m\u001b[0m\n\u001b[1;32m   1633\u001b[0m     def evaluate(self, x=None, y=None,\n",
      "\u001b[0;32m/usr/local/lib/python3.6/site-packages/keras/engine/training.py\u001b[0m in \u001b[0;36m_fit_loop\u001b[0;34m(self, f, ins, out_labels, batch_size, epochs, verbose, callbacks, val_f, val_ins, shuffle, callback_metrics, initial_epoch, steps_per_epoch, validation_steps)\u001b[0m\n\u001b[1;32m   1211\u001b[0m                     \u001b[0mbatch_logs\u001b[0m\u001b[0;34m[\u001b[0m\u001b[0;34m'size'\u001b[0m\u001b[0;34m]\u001b[0m \u001b[0;34m=\u001b[0m \u001b[0mlen\u001b[0m\u001b[0;34m(\u001b[0m\u001b[0mbatch_ids\u001b[0m\u001b[0;34m)\u001b[0m\u001b[0;34m\u001b[0m\u001b[0m\n\u001b[1;32m   1212\u001b[0m                     \u001b[0mcallbacks\u001b[0m\u001b[0;34m.\u001b[0m\u001b[0mon_batch_begin\u001b[0m\u001b[0;34m(\u001b[0m\u001b[0mbatch_index\u001b[0m\u001b[0;34m,\u001b[0m \u001b[0mbatch_logs\u001b[0m\u001b[0;34m)\u001b[0m\u001b[0;34m\u001b[0m\u001b[0m\n\u001b[0;32m-> 1213\u001b[0;31m                     \u001b[0mouts\u001b[0m \u001b[0;34m=\u001b[0m \u001b[0mf\u001b[0m\u001b[0;34m(\u001b[0m\u001b[0mins_batch\u001b[0m\u001b[0;34m)\u001b[0m\u001b[0;34m\u001b[0m\u001b[0m\n\u001b[0m\u001b[1;32m   1214\u001b[0m                     \u001b[0;32mif\u001b[0m \u001b[0;32mnot\u001b[0m \u001b[0misinstance\u001b[0m\u001b[0;34m(\u001b[0m\u001b[0mouts\u001b[0m\u001b[0;34m,\u001b[0m \u001b[0mlist\u001b[0m\u001b[0;34m)\u001b[0m\u001b[0;34m:\u001b[0m\u001b[0;34m\u001b[0m\u001b[0m\n\u001b[1;32m   1215\u001b[0m                         \u001b[0mouts\u001b[0m \u001b[0;34m=\u001b[0m \u001b[0;34m[\u001b[0m\u001b[0mouts\u001b[0m\u001b[0;34m]\u001b[0m\u001b[0;34m\u001b[0m\u001b[0m\n",
      "\u001b[0;32m/usr/local/lib/python3.6/site-packages/keras/backend/tensorflow_backend.py\u001b[0m in \u001b[0;36m__call__\u001b[0;34m(self, inputs)\u001b[0m\n\u001b[1;32m   2330\u001b[0m         updated = session.run(self.outputs + [self.updates_op],\n\u001b[1;32m   2331\u001b[0m                               \u001b[0mfeed_dict\u001b[0m\u001b[0;34m=\u001b[0m\u001b[0mfeed_dict\u001b[0m\u001b[0;34m,\u001b[0m\u001b[0;34m\u001b[0m\u001b[0m\n\u001b[0;32m-> 2332\u001b[0;31m                               **self.session_kwargs)\n\u001b[0m\u001b[1;32m   2333\u001b[0m         \u001b[0;32mreturn\u001b[0m \u001b[0mupdated\u001b[0m\u001b[0;34m[\u001b[0m\u001b[0;34m:\u001b[0m\u001b[0mlen\u001b[0m\u001b[0;34m(\u001b[0m\u001b[0mself\u001b[0m\u001b[0;34m.\u001b[0m\u001b[0moutputs\u001b[0m\u001b[0;34m)\u001b[0m\u001b[0;34m]\u001b[0m\u001b[0;34m\u001b[0m\u001b[0m\n\u001b[1;32m   2334\u001b[0m \u001b[0;34m\u001b[0m\u001b[0m\n",
      "\u001b[0;32m/usr/local/lib/python3.6/site-packages/tensorflow/python/client/session.py\u001b[0m in \u001b[0;36mrun\u001b[0;34m(self, fetches, feed_dict, options, run_metadata)\u001b[0m\n\u001b[1;32m    887\u001b[0m     \u001b[0;32mtry\u001b[0m\u001b[0;34m:\u001b[0m\u001b[0;34m\u001b[0m\u001b[0m\n\u001b[1;32m    888\u001b[0m       result = self._run(None, fetches, feed_dict, options_ptr,\n\u001b[0;32m--> 889\u001b[0;31m                          run_metadata_ptr)\n\u001b[0m\u001b[1;32m    890\u001b[0m       \u001b[0;32mif\u001b[0m \u001b[0mrun_metadata\u001b[0m\u001b[0;34m:\u001b[0m\u001b[0;34m\u001b[0m\u001b[0m\n\u001b[1;32m    891\u001b[0m         \u001b[0mproto_data\u001b[0m \u001b[0;34m=\u001b[0m \u001b[0mtf_session\u001b[0m\u001b[0;34m.\u001b[0m\u001b[0mTF_GetBuffer\u001b[0m\u001b[0;34m(\u001b[0m\u001b[0mrun_metadata_ptr\u001b[0m\u001b[0;34m)\u001b[0m\u001b[0;34m\u001b[0m\u001b[0m\n",
      "\u001b[0;32m/usr/local/lib/python3.6/site-packages/tensorflow/python/client/session.py\u001b[0m in \u001b[0;36m_run\u001b[0;34m(self, handle, fetches, feed_dict, options, run_metadata)\u001b[0m\n\u001b[1;32m   1118\u001b[0m     \u001b[0;32mif\u001b[0m \u001b[0mfinal_fetches\u001b[0m \u001b[0;32mor\u001b[0m \u001b[0mfinal_targets\u001b[0m \u001b[0;32mor\u001b[0m \u001b[0;34m(\u001b[0m\u001b[0mhandle\u001b[0m \u001b[0;32mand\u001b[0m \u001b[0mfeed_dict_tensor\u001b[0m\u001b[0;34m)\u001b[0m\u001b[0;34m:\u001b[0m\u001b[0;34m\u001b[0m\u001b[0m\n\u001b[1;32m   1119\u001b[0m       results = self._do_run(handle, final_targets, final_fetches,\n\u001b[0;32m-> 1120\u001b[0;31m                              feed_dict_tensor, options, run_metadata)\n\u001b[0m\u001b[1;32m   1121\u001b[0m     \u001b[0;32melse\u001b[0m\u001b[0;34m:\u001b[0m\u001b[0;34m\u001b[0m\u001b[0m\n\u001b[1;32m   1122\u001b[0m       \u001b[0mresults\u001b[0m \u001b[0;34m=\u001b[0m \u001b[0;34m[\u001b[0m\u001b[0;34m]\u001b[0m\u001b[0;34m\u001b[0m\u001b[0m\n",
      "\u001b[0;32m/usr/local/lib/python3.6/site-packages/tensorflow/python/client/session.py\u001b[0m in \u001b[0;36m_do_run\u001b[0;34m(self, handle, target_list, fetch_list, feed_dict, options, run_metadata)\u001b[0m\n\u001b[1;32m   1315\u001b[0m     \u001b[0;32mif\u001b[0m \u001b[0mhandle\u001b[0m \u001b[0;32mis\u001b[0m \u001b[0;32mNone\u001b[0m\u001b[0;34m:\u001b[0m\u001b[0;34m\u001b[0m\u001b[0m\n\u001b[1;32m   1316\u001b[0m       return self._do_call(_run_fn, self._session, feeds, fetches, targets,\n\u001b[0;32m-> 1317\u001b[0;31m                            options, run_metadata)\n\u001b[0m\u001b[1;32m   1318\u001b[0m     \u001b[0;32melse\u001b[0m\u001b[0;34m:\u001b[0m\u001b[0;34m\u001b[0m\u001b[0m\n\u001b[1;32m   1319\u001b[0m       \u001b[0;32mreturn\u001b[0m \u001b[0mself\u001b[0m\u001b[0;34m.\u001b[0m\u001b[0m_do_call\u001b[0m\u001b[0;34m(\u001b[0m\u001b[0m_prun_fn\u001b[0m\u001b[0;34m,\u001b[0m \u001b[0mself\u001b[0m\u001b[0;34m.\u001b[0m\u001b[0m_session\u001b[0m\u001b[0;34m,\u001b[0m \u001b[0mhandle\u001b[0m\u001b[0;34m,\u001b[0m \u001b[0mfeeds\u001b[0m\u001b[0;34m,\u001b[0m \u001b[0mfetches\u001b[0m\u001b[0;34m)\u001b[0m\u001b[0;34m\u001b[0m\u001b[0m\n",
      "\u001b[0;32m/usr/local/lib/python3.6/site-packages/tensorflow/python/client/session.py\u001b[0m in \u001b[0;36m_do_call\u001b[0;34m(self, fn, *args)\u001b[0m\n\u001b[1;32m   1321\u001b[0m   \u001b[0;32mdef\u001b[0m \u001b[0m_do_call\u001b[0m\u001b[0;34m(\u001b[0m\u001b[0mself\u001b[0m\u001b[0;34m,\u001b[0m \u001b[0mfn\u001b[0m\u001b[0;34m,\u001b[0m \u001b[0;34m*\u001b[0m\u001b[0margs\u001b[0m\u001b[0;34m)\u001b[0m\u001b[0;34m:\u001b[0m\u001b[0;34m\u001b[0m\u001b[0m\n\u001b[1;32m   1322\u001b[0m     \u001b[0;32mtry\u001b[0m\u001b[0;34m:\u001b[0m\u001b[0;34m\u001b[0m\u001b[0m\n\u001b[0;32m-> 1323\u001b[0;31m       \u001b[0;32mreturn\u001b[0m \u001b[0mfn\u001b[0m\u001b[0;34m(\u001b[0m\u001b[0;34m*\u001b[0m\u001b[0margs\u001b[0m\u001b[0;34m)\u001b[0m\u001b[0;34m\u001b[0m\u001b[0m\n\u001b[0m\u001b[1;32m   1324\u001b[0m     \u001b[0;32mexcept\u001b[0m \u001b[0merrors\u001b[0m\u001b[0;34m.\u001b[0m\u001b[0mOpError\u001b[0m \u001b[0;32mas\u001b[0m \u001b[0me\u001b[0m\u001b[0;34m:\u001b[0m\u001b[0;34m\u001b[0m\u001b[0m\n\u001b[1;32m   1325\u001b[0m       \u001b[0mmessage\u001b[0m \u001b[0;34m=\u001b[0m \u001b[0mcompat\u001b[0m\u001b[0;34m.\u001b[0m\u001b[0mas_text\u001b[0m\u001b[0;34m(\u001b[0m\u001b[0me\u001b[0m\u001b[0;34m.\u001b[0m\u001b[0mmessage\u001b[0m\u001b[0;34m)\u001b[0m\u001b[0;34m\u001b[0m\u001b[0m\n",
      "\u001b[0;32m/usr/local/lib/python3.6/site-packages/tensorflow/python/client/session.py\u001b[0m in \u001b[0;36m_run_fn\u001b[0;34m(session, feed_dict, fetch_list, target_list, options, run_metadata)\u001b[0m\n\u001b[1;32m   1300\u001b[0m           return tf_session.TF_Run(session, options,\n\u001b[1;32m   1301\u001b[0m                                    \u001b[0mfeed_dict\u001b[0m\u001b[0;34m,\u001b[0m \u001b[0mfetch_list\u001b[0m\u001b[0;34m,\u001b[0m \u001b[0mtarget_list\u001b[0m\u001b[0;34m,\u001b[0m\u001b[0;34m\u001b[0m\u001b[0m\n\u001b[0;32m-> 1302\u001b[0;31m                                    status, run_metadata)\n\u001b[0m\u001b[1;32m   1303\u001b[0m \u001b[0;34m\u001b[0m\u001b[0m\n\u001b[1;32m   1304\u001b[0m     \u001b[0;32mdef\u001b[0m \u001b[0m_prun_fn\u001b[0m\u001b[0;34m(\u001b[0m\u001b[0msession\u001b[0m\u001b[0;34m,\u001b[0m \u001b[0mhandle\u001b[0m\u001b[0;34m,\u001b[0m \u001b[0mfeed_dict\u001b[0m\u001b[0;34m,\u001b[0m \u001b[0mfetch_list\u001b[0m\u001b[0;34m)\u001b[0m\u001b[0;34m:\u001b[0m\u001b[0;34m\u001b[0m\u001b[0m\n",
      "\u001b[0;31mKeyboardInterrupt\u001b[0m: "
     ]
    }
   ],
   "source": [
    "%run main.py"
   ]
  },
  {
   "cell_type": "code",
   "execution_count": 17,
   "metadata": {},
   "outputs": [
    {
     "ename": "NameError",
     "evalue": "name 'tokenizer' is not defined",
     "output_type": "error",
     "traceback": [
      "\u001b[0;31m---------------------------------------------------------------------------\u001b[0m",
      "\u001b[0;31mNameError\u001b[0m                                 Traceback (most recent call last)",
      "\u001b[0;32m<ipython-input-17-58a549541335>\u001b[0m in \u001b[0;36m<module>\u001b[0;34m()\u001b[0m\n\u001b[0;32m----> 1\u001b[0;31m \u001b[0mlen\u001b[0m\u001b[0;34m(\u001b[0m\u001b[0mtokenizer\u001b[0m\u001b[0;34m.\u001b[0m\u001b[0mword_index\u001b[0m\u001b[0;34m.\u001b[0m\u001b[0mitems\u001b[0m\u001b[0;34m(\u001b[0m\u001b[0;34m)\u001b[0m\u001b[0;34m)\u001b[0m\u001b[0;34m\u001b[0m\u001b[0m\n\u001b[0m",
      "\u001b[0;31mNameError\u001b[0m: name 'tokenizer' is not defined"
     ]
    }
   ],
   "source": [
    "len(tokenizer.word_index.items())"
   ]
  },
  {
   "cell_type": "code",
   "execution_count": null,
   "metadata": {},
   "outputs": [],
   "source": []
  }
 ],
 "metadata": {
  "kernelspec": {
   "display_name": "Python 3",
   "language": "python",
   "name": "python3"
  },
  "language_info": {
   "codemirror_mode": {
    "name": "ipython",
    "version": 3
   },
   "file_extension": ".py",
   "mimetype": "text/x-python",
   "name": "python",
   "nbconvert_exporter": "python",
   "pygments_lexer": "ipython3",
   "version": "3.6.1"
  }
 },
 "nbformat": 4,
 "nbformat_minor": 2
}
